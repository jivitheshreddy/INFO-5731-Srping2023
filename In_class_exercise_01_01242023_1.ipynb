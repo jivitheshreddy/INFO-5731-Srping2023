{
  "cells": [
    {
      "cell_type": "markdown",
      "metadata": {
        "id": "view-in-github",
        "colab_type": "text"
      },
      "source": [
        "<a href=\"https://colab.research.google.com/github/jivitheshreddy/INFO-5737-Srping2023/blob/main/In_class_exercise_01_01242023_1.ipynb\" target=\"_parent\"><img src=\"https://colab.research.google.com/assets/colab-badge.svg\" alt=\"Open In Colab\"/></a>"
      ]
    },
    {
      "cell_type": "markdown",
      "metadata": {
        "id": "DymRJbxDBCnf"
      },
      "source": [
        "# **The first In-class-exercise (01/24/2023, 40 points in total)**"
      ]
    },
    {
      "cell_type": "markdown",
      "metadata": {
        "id": "03jb4GZsBkBS"
      },
      "source": [
        "(1) Write a Python program to calculate the length of a string. (4 points)"
      ]
    },
    {
      "cell_type": "code",
      "execution_count": 3,
      "metadata": {
        "colab": {
          "base_uri": "https://localhost:8080/"
        },
        "id": "YaGLbSHHB8Ej",
        "outputId": "311ae36f-6f5c-4cc9-e60c-18f6f27c1084"
      },
      "outputs": [
        {
          "output_type": "stream",
          "name": "stdout",
          "text": [
            "Enter String jim\n",
            "Length of string is 3\n"
          ]
        }
      ],
      "source": [
        "# write your answer here\n",
        "st=input('Enter String ')\n",
        "count=0\n",
        "for i in st:\n",
        "  count=count+1;\n",
        "print('Length of string is',count)"
      ]
    },
    {
      "cell_type": "markdown",
      "metadata": {
        "id": "jJDe71iLB616"
      },
      "source": [
        "(2) Write a Python program to count the number of characters in a string. (4 points)\n",
        "\n",
        "Sample String : 'google.com‘, \n",
        "\n",
        "Expected Result : {'o': 3, 'g': 2, '.': 1, 'e': 1, 'l': 1, 'm': 1, 'c': 1}"
      ]
    },
    {
      "cell_type": "code",
      "execution_count": 15,
      "metadata": {
        "colab": {
          "base_uri": "https://localhost:8080/"
        },
        "id": "MtKskTzbCLaU",
        "outputId": "bb6e0fa8-62dc-4e52-cedf-8180f30877bf"
      },
      "outputs": [
        {
          "output_type": "stream",
          "name": "stdout",
          "text": [
            "{'g': 2, 'o': 3, 'l': 1, 'e': 1, '.': 1, 'c': 1, 'm': 1}\n"
          ]
        }
      ],
      "source": [
        "# write your answer here\n",
        "sample='google.com'\n",
        "count={}\n",
        "for char in sample:\n",
        "  if char in count:\n",
        "    count[char]=count[char]+1;\n",
        "  else:\n",
        "    count[char]=1\n",
        "print(count)\n",
        "\n"
      ]
    },
    {
      "cell_type": "code",
      "source": [
        "sorted(count.items(),key=lambda x:x[1], reverse=True)"
      ],
      "metadata": {
        "colab": {
          "base_uri": "https://localhost:8080/"
        },
        "id": "NpoB9n1g2MQ3",
        "outputId": "02915cae-6c4a-4d33-cb1a-a1122f9899dd"
      },
      "execution_count": 22,
      "outputs": [
        {
          "output_type": "execute_result",
          "data": {
            "text/plain": [
              "[('o', 3), ('g', 2), ('l', 1), ('e', 1), ('.', 1), ('c', 1), ('m', 1)]"
            ]
          },
          "metadata": {},
          "execution_count": 22
        }
      ]
    },
    {
      "cell_type": "markdown",
      "metadata": {
        "id": "55W9AMdXCSpV"
      },
      "source": [
        "(3) Write a Python program to sum all the items in a list. (4 points)"
      ]
    },
    {
      "cell_type": "code",
      "execution_count": 24,
      "metadata": {
        "colab": {
          "base_uri": "https://localhost:8080/"
        },
        "id": "I57NXsauCec2",
        "outputId": "e189a306-aa14-4a15-9db8-8bd307cc5cc4"
      },
      "outputs": [
        {
          "output_type": "stream",
          "name": "stdout",
          "text": [
            "Sum is 10\n"
          ]
        }
      ],
      "source": [
        "# write your answer here\n",
        "ls=[1,2,3,4]\n",
        "\n",
        "sum=0\n",
        "for i in ls:\n",
        "  sum=sum+i;\n",
        "print('Sum is',sum)\n"
      ]
    },
    {
      "cell_type": "markdown",
      "metadata": {
        "id": "4ulBZ6yhCi9F"
      },
      "source": [
        "(4) Write a Python program to get a string from a given string where all occurrences of its first char have been changed to '\\$', except the first char itself. (4 points)\n",
        "\n",
        "Sample String : 'restart‘, \n",
        "\n",
        "Expected Result : 'resta\\$t'"
      ]
    },
    {
      "cell_type": "code",
      "execution_count": 11,
      "metadata": {
        "colab": {
          "base_uri": "https://localhost:8080/"
        },
        "id": "Fj0XhwbBCw2o",
        "outputId": "eddd0c99-89fc-433e-8dbe-6c4c41597839"
      },
      "outputs": [
        {
          "output_type": "stream",
          "name": "stdout",
          "text": [
            "resta$t\n"
          ]
        }
      ],
      "source": [
        "# write your answer here\n",
        "sample='restart'\n",
        "result=''\n",
        "charToRep=sample[0]\n",
        "for i in range(1,len(sample)):\n",
        "  if sample[i]==charToRep:\n",
        "    result=result+'$'\n",
        "  else:\n",
        "    result=result+sample[i]\n",
        "print(sample[0]+result)"
      ]
    },
    {
      "cell_type": "markdown",
      "metadata": {
        "id": "_bIP7s1MCzue"
      },
      "source": [
        "(5) Write a program with python which could accept two parameter a and b to calculate and output the result of S, where \n",
        "\n",
        "$\\ S=3.14*(1+a/b)^3$ (4 points)\n",
        "\n"
      ]
    },
    {
      "cell_type": "code",
      "execution_count": 13,
      "metadata": {
        "colab": {
          "base_uri": "https://localhost:8080/"
        },
        "id": "w79QilHXD3Mg",
        "outputId": "ef9d6daa-f6d4-4208-c696-868d518db77d"
      },
      "outputs": [
        {
          "output_type": "stream",
          "name": "stdout",
          "text": [
            "Enter a value12\n",
            "Enter b value12\n",
            "25.12\n"
          ]
        }
      ],
      "source": [
        "# write your answer here\n",
        "a=int(input('Enter a value'))\n",
        "b=int(input('Enter b value'))\n",
        "S=3.14*(1+a/b)**3\n",
        "print(S)"
      ]
    },
    {
      "cell_type": "markdown",
      "metadata": {
        "id": "xCa2bK9aD4Q3"
      },
      "source": [
        "(6) Write a Python program to concatenate following dictionaries to create a new one. (4 points)\n",
        "\n",
        "Sample Dictionary : dic1={1:10, 2:20}, dic2={3:30, 4:40}, dic3={5:50,6:60}, \n",
        "\n",
        "Expected Result : {1: 10, 2: 20, 3: 30, 4: 40, 5: 50, 6: 60}\n"
      ]
    },
    {
      "cell_type": "code",
      "execution_count": 19,
      "metadata": {
        "colab": {
          "base_uri": "https://localhost:8080/"
        },
        "id": "_z4aLqAbEET1",
        "outputId": "3f6270a2-a316-49bf-c577-7759cc273584"
      },
      "outputs": [
        {
          "output_type": "stream",
          "name": "stdout",
          "text": [
            "{1: 10, 2: 20, 3: 30, 4: 40, 5: 50, 6: 60}\n"
          ]
        }
      ],
      "source": [
        "# write your answer here\n",
        "dic1={1:10, 2:20}\n",
        "dic2={3:30, 4:40} \n",
        "dic3={5:50,6:60}\n",
        "dic1.update(dic2)\n",
        "dic1.update(dic3)\n",
        "print(dic1)"
      ]
    },
    {
      "cell_type": "markdown",
      "metadata": {
        "id": "0v48Vqa7FrQh"
      },
      "source": [
        "(7) Write a Python program to check whether an element exists within a tuple. (4 points)"
      ]
    },
    {
      "cell_type": "code",
      "execution_count": 23,
      "metadata": {
        "colab": {
          "base_uri": "https://localhost:8080/"
        },
        "id": "7WEmgq-DF2P1",
        "outputId": "40821eae-5897-4bf8-95c9-ee71e8429c80"
      },
      "outputs": [
        {
          "output_type": "stream",
          "name": "stdout",
          "text": [
            "Enter element to searchmango\n",
            "Does not exist\n"
          ]
        }
      ],
      "source": [
        "# write your answer here\n",
        "mytuple = (\"apple\", \"banana\", \"cherry\")\n",
        "element=input('Enter element to search')\n",
        "count=0\n",
        "for i in mytuple:\n",
        "  if i==element:\n",
        "    count=count+1\n",
        "if count>0:\n",
        "  print('the element exists')\n",
        "else:\n",
        "  print('Does not exist')\n",
        "\n"
      ]
    },
    {
      "cell_type": "markdown",
      "metadata": {
        "id": "vD5PYLMuGga_"
      },
      "source": [
        "(8) Write a Python program to find maximum and the minimum value in a set. (4 points)"
      ]
    },
    {
      "cell_type": "code",
      "execution_count": 46,
      "metadata": {
        "id": "t0D5kdJUGjjw"
      },
      "outputs": [],
      "source": [
        "# write your answer here\n",
        "myset=set([1,2,5,788])"
      ]
    },
    {
      "cell_type": "code",
      "source": [
        "min=1\n",
        "max=1\n",
        "for i in myset:\n",
        "  if i>max:\n",
        "    max=i\n",
        "  elif i<min:\n",
        "    min=i\n",
        "print(min)\n",
        "print(max)"
      ],
      "metadata": {
        "colab": {
          "base_uri": "https://localhost:8080/"
        },
        "id": "OmIk4Z4QTn7d",
        "outputId": "f96a5aaa-09ce-4625-fb3c-620c7b723777"
      },
      "execution_count": 49,
      "outputs": [
        {
          "output_type": "stream",
          "name": "stdout",
          "text": [
            "1\n",
            "788\n"
          ]
        }
      ]
    },
    {
      "cell_type": "markdown",
      "metadata": {
        "id": "uHkd-y5VhVWC"
      },
      "source": [
        "(9) Write a Python program to randomly divide the students in this class into six groups for term projects, each group should have at least 4 students but no more than 6 students (including 6). Here is the students list: (4 points)\n",
        "\n",
        "studnet_list = ['ja0964','sa1198','sb1357','vb0218','sc1229','kg0569','kg0470','sg1297','bg0320','fh0141','jl1252','sk1386',\n",
        "           'ak0956','sk1390','sk1458','sk1313','ak0934','vm0377','nm0618','sm1640','sm1907','gn0108','pr0353','dr0609','ms1500','aos0040','ds0814', 'av0659','nv0234','hy0232']"
      ]
    },
    {
      "cell_type": "code",
      "execution_count": 71,
      "metadata": {
        "id": "3iGbmcOBhTwy"
      },
      "outputs": [],
      "source": [
        "# write your answer here\n",
        "studnet_list = ['ja0964','sa1198','sb1357','vb0218','sc1229','kg0569','kg0470','sg1297','bg0320','fh0141','jl1252','sk1386', 'ak0956','sk1390','sk1458','sk1313','ak0934','vm0377','nm0618','sm1640','sm1907','gn0108','pr0353','dr0609','ms1500','aos0040','ds0814', 'av0659','nv0234','hy0232']"
      ]
    },
    {
      "cell_type": "code",
      "source": [
        "import random"
      ],
      "metadata": {
        "id": "l8BTQ1KNWDzo"
      },
      "execution_count": 72,
      "outputs": []
    },
    {
      "cell_type": "code",
      "source": [
        "new_group=[]\n",
        "for i in range (6):\n",
        "  ls=random.sample(studnet_list,random.randrange(4, 7))\n",
        "  new_group.append(ls)\n",
        "  studnet_list=[e for e in studnet_list if e not in ls]\n"
      ],
      "metadata": {
        "id": "bMZ7w-m9WEAy"
      },
      "execution_count": 73,
      "outputs": []
    },
    {
      "cell_type": "code",
      "source": [
        "lst=['first','second','third','fourth','fifth','sixth']\n",
        "j=0\n",
        "for i in new_group:\n",
        "  print( lst[j],' group is',i)\n",
        "  j=j+1\n",
        "  "
      ],
      "metadata": {
        "colab": {
          "base_uri": "https://localhost:8080/"
        },
        "id": "IYgahbW9YZV5",
        "outputId": "40f86dc3-8784-43de-911d-9f49cce75b41"
      },
      "execution_count": 76,
      "outputs": [
        {
          "output_type": "stream",
          "name": "stdout",
          "text": [
            "first  group is ['pr0353', 'jl1252', 'sk1386', 'sm1907']\n",
            "second  group is ['ak0956', 'av0659', 'sg1297', 'sc1229', 'aos0040', 'bg0320']\n",
            "third  group is ['dr0609', 'nv0234', 'sk1458', 'sm1640', 'hy0232']\n",
            "fourth  group is ['gn0108', 'kg0470', 'sb1357', 'fh0141']\n",
            "fifth  group is ['ds0814', 'kg0569', 'vb0218', 'ak0934']\n",
            "sixth  group is ['sa1198', 'nm0618', 'ms1500', 'sk1390']\n"
          ]
        }
      ]
    },
    {
      "cell_type": "markdown",
      "metadata": {
        "id": "aULCql6JwYCw"
      },
      "source": [
        "(10) Write a Python program to find the duplicate elements in a given array of integers. Return -1 If there are no such elements. (4 points)"
      ]
    },
    {
      "cell_type": "code",
      "execution_count": 90,
      "metadata": {
        "colab": {
          "base_uri": "https://localhost:8080/"
        },
        "id": "1Yyh5JlcwYCw",
        "outputId": "bba21055-464a-4061-eb0c-0f96653d195b"
      },
      "outputs": [
        {
          "output_type": "stream",
          "name": "stdout",
          "text": [
            "{1, 4}\n"
          ]
        }
      ],
      "source": [
        "# write your answer here\n",
        "integers=[1,2,5,1,4,9,4,7,8]\n",
        "dup=[]\n",
        "for i in integers:\n",
        "  count=0\n",
        "  for j in integers:\n",
        "    if i==j:\n",
        "      count=count+1\n",
        "  if count>1:\n",
        "    dup.append(i)\n",
        "if len(dup)==0:\n",
        "  print(-1)\n",
        "else:\n",
        "  print(set(dup))"
      ]
    },
    {
      "cell_type": "code",
      "source": [],
      "metadata": {
        "colab": {
          "base_uri": "https://localhost:8080/"
        },
        "id": "z-InAdeEd8m7",
        "outputId": "530625d7-723c-45b0-b80c-aa287a996b7b"
      },
      "execution_count": 85,
      "outputs": [
        {
          "output_type": "execute_result",
          "data": {
            "text/plain": [
              "0"
            ]
          },
          "metadata": {},
          "execution_count": 85
        }
      ]
    },
    {
      "cell_type": "markdown",
      "metadata": {
        "id": "JZzVEFq_wYCx"
      },
      "source": [
        "(11) Write a Python program to select all the Sundays of a specified year. (4 extra points)"
      ]
    },
    {
      "cell_type": "code",
      "execution_count": null,
      "metadata": {
        "id": "q1KNUmlgwYCx"
      },
      "outputs": [],
      "source": [
        "# write your answer here\n"
      ]
    }
  ],
  "metadata": {
    "colab": {
      "provenance": [],
      "include_colab_link": true
    },
    "kernelspec": {
      "display_name": "Python 3 (ipykernel)",
      "language": "python",
      "name": "python3"
    },
    "language_info": {
      "codemirror_mode": {
        "name": "ipython",
        "version": 3
      },
      "file_extension": ".py",
      "mimetype": "text/x-python",
      "name": "python",
      "nbconvert_exporter": "python",
      "pygments_lexer": "ipython3",
      "version": "3.9.12"
    }
  },
  "nbformat": 4,
  "nbformat_minor": 0
}