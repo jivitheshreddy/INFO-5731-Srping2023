{
  "cells": [
    {
      "cell_type": "markdown",
      "metadata": {
        "id": "view-in-github",
        "colab_type": "text"
      },
      "source": [
        "<a href=\"https://colab.research.google.com/github/jivitheshreddy/INFO-5731-Srping2023/blob/main/In_class_exercise_05_04182023.ipynb\" target=\"_parent\"><img src=\"https://colab.research.google.com/assets/colab-badge.svg\" alt=\"Open In Colab\"/></a>"
      ]
    },
    {
      "cell_type": "markdown",
      "metadata": {
        "id": "DRT5QqpzyAvX"
      },
      "source": [
        "# **The fifth in-class-exercise (40 points in total, 4/18/2023)**"
      ]
    },
    {
      "cell_type": "markdown",
      "metadata": {
        "id": "LyQbuL1RyAvZ"
      },
      "source": [
        "(20 points) The purpose of the question is to practice different machine learning algorithms for text classification as well as the performance evaluation. In addition, you are requried to conduct *10 fold cross validation (https://scikit-learn.org/stable/modules/cross_validation.html)* in the training. \n",
        "\n",
        "The dataset can be download from canvas. The dataset contains two files train data and train data for sentiment analysis in IMDB review, it has two categories: 1 represents positive and 0 represents negative. You need to split the training data into training and validate data (80% for training and 20% for validation, https://towardsdatascience.com/train-test-split-and-cross-validation-in-python-80b61beca4b6) and perform 10 fold cross validation while training the classifier. The final trained model was final evaluated on the test data. \n",
        "\n",
        "Algorithms:\n",
        "\n",
        "(1) MultinominalNB\n",
        "\n",
        "(2) SVM \n",
        "\n",
        "(3) KNN \n",
        "\n",
        "(4) Decision tree\n",
        "\n",
        "(5) Random Forest\n",
        "\n",
        "(6) XGBoost\n",
        "\n",
        "(7) Word2Vec\n",
        "\n",
        "(8) BERT\n",
        "\n",
        "Evaluation measurement:\n",
        "\n",
        "(1) Accuracy\n",
        "\n",
        "(2) Recall\n",
        "\n",
        "(3) Precison \n",
        "\n",
        "(4) F-1 score"
      ]
    },
    {
      "cell_type": "markdown",
      "source": [
        "(1) MultinominalNB"
      ],
      "metadata": {
        "id": "GNA-2u0UqM1N"
      }
    },
    {
      "cell_type": "code",
      "source": [
        "import pandas as pd\n",
        "from sklearn.feature_extraction.text import TfidfVectorizer \n",
        "from sklearn.naive_bayes import MultinomialNB\n",
        "from sklearn.metrics import precision_score, recall_score, f1_score, accuracy_score\n",
        "from sklearn.model_selection import train_test_split\n",
        "\n",
        "# Load the training dataset\n",
        "with open(\"stsa-train.txt\") as f:\n",
        "    data_train = [line.strip().split(\" \", 1) for line in f]\n",
        "\n",
        "df_train = pd.DataFrame(data_train, columns=[\"label\", \"text\"])\n",
        "df_train[\"label\"] = df_train[\"label\"].astype(int)\n",
        "\n",
        "# Load the test dataset\n",
        "with open(\"stsa-test.txt\") as f:\n",
        "    data_test = [line.strip().split(\" \", 1) for line in f]\n",
        "\n",
        "df_test = pd.DataFrame(data_test, columns=[\"label\", \"text\"])\n",
        "df_test[\"label\"] = df_test[\"label\"].astype(int)\n",
        "\n",
        "# Convert text to features using TF-IDF vectorization\n",
        "vectorizer = TfidfVectorizer(lowercase=False)\n",
        "X_train = vectorizer.fit_transform(df_train[\"text\"]).toarray()\n",
        "X_test = vectorizer.transform(df_test[\"text\"]).toarray()\n",
        "y_train = df_train[\"label\"].values\n",
        "y_test = df_test[\"label\"].values\n",
        "\n",
        "# Split the training dataset into training and validation sets\n",
        "X_train, X_valid, y_train, y_valid = train_test_split(X_train, y_train, test_size=0.2, random_state=202)\n",
        "\n",
        "# Train the model\n",
        "clf = MultinomialNB()\n",
        "clf.fit(X_train, y_train)\n",
        "\n",
        "# Make predictions on the validation set\n",
        "y_pred_valid = clf.predict(X_valid)\n",
        "\n",
        "# Calculate evaluation metrics on the validation set\n",
        "acc = accuracy_score(y_valid, y_pred_valid)\n",
        "precision = precision_score(y_valid, y_pred_valid, pos_label=0)\n",
        "recall = recall_score(y_valid, y_pred_valid, pos_label=0)\n",
        "f1 = f1_score(y_valid, y_pred_valid, pos_label=0)\n",
        "\n",
        "print(f\"Accuracy on validation set: {round(acc * 100, 2)}%\")\n",
        "print(f\"Precision on validation set: {round(precision * 100, 2)}%\")\n",
        "print(f\"Recall on validation set: {round(recall * 100, 2)}%\")\n",
        "print(f\"F1 score on validation set: {round(f1 * 100, 2)}%\")\n",
        "\n",
        "# Make predictions on the test set\n",
        "y_pred_test = clf.predict(X_test)\n",
        "\n",
        "# Calculate evaluation metrics on the test set\n",
        "acc = accuracy_score(y_test, y_pred_test)\n",
        "precision = precision_score(y_test, y_pred_test, pos_label=0)\n",
        "recall = recall_score(y_test, y_pred_test, pos_label=0)\n",
        "f1 = f1_score(y_test, y_pred_test, pos_label=0)\n",
        "\n",
        "print(f\"Accuracy on test set: {round(acc * 100, 2)}%\")\n",
        "print(f\"Precision on test set: {round(precision * 100, 2)}%\")\n",
        "print(f\"Recall on test set: {round(recall * 100, 2)}%\")\n",
        "print(f\"F1 score on test set: {round(f1 * 100, 2)}%\")\n"
      ],
      "metadata": {
        "id": "uO0jJa6I1Yt-",
        "colab": {
          "base_uri": "https://localhost:8080/"
        },
        "outputId": "b6d21815-aa28-4b2f-f0bd-12e89bd1d051"
      },
      "execution_count": null,
      "outputs": [
        {
          "output_type": "stream",
          "name": "stdout",
          "text": [
            "Accuracy on validation set: 78.9%\n",
            "Precision on validation set: 81.94%\n",
            "Recall on validation set: 72.11%\n",
            "F1 score on validation set: 76.71%\n",
            "Accuracy on test set: 80.45%\n",
            "Precision on test set: 85.37%\n",
            "Recall on test set: 73.57%\n",
            "F1 score on test set: 79.03%\n"
          ]
        }
      ]
    },
    {
      "cell_type": "markdown",
      "source": [],
      "metadata": {
        "id": "ROIFeociqLaa"
      }
    },
    {
      "cell_type": "code",
      "source": [
        "from sklearn.model_selection import cross_val_score\n",
        "from sklearn.metrics import classification_report\n",
        "\n",
        "\n",
        "naive_accuracies_validation = cross_val_score(estimator=classifier, X=x_train, y=y_train, cv=10)\n",
        "print(f\"Naive Bayes Model 10-fold cross validation score on training set is: {round(naive_accuracies_validation.mean()*100)}%\")\n",
        "\n",
        "predictions_test_set = classifier.predict(x_test) \n",
        "print(\"Accuracy of the Naive Bayes model on test set is: \", round(accuracy_score(y_test, predictions_test_set)*100), \"%\")\n",
        "print(\"Precision of the Naive Bayes model on test set is: \", round(precision_score(y_test, predictions_test_set, pos_label=0)*100), \"%\")\n",
        "print(\"Recall of the Naive Bayes model on test set is: \", round(recall_score(y_test, predictions_test_set, pos_label=0)*100), \"%\")\n",
        "print(\"F1 Score of the Naive Bayes model on test set is: \", round(f1_score(y_test, predictions_test_set, pos_label=0)*100), \"%\")\n",
        "\n",
        "cr_naive_test = classification_report(y_test, predictions_test_set)\n",
        "print(\"Classification Report: \\n\", cr_naive_test)\n",
        "\n",
        "naive_accuracies_test = cross_val_score(estimator=classifier, X=x_test, y=y_test, cv=10)\n",
        "print(f\"Naive Bayes Model 10-fold cross validation score on testing set is: {round(naive_accuracies_test.mean()*100)}%\")\n",
        "\n"
      ],
      "metadata": {
        "colab": {
          "base_uri": "https://localhost:8080/"
        },
        "id": "Ppgj9Xgnk9zt",
        "outputId": "3865a71c-e014-468e-92c3-134116860aad"
      },
      "execution_count": null,
      "outputs": [
        {
          "output_type": "stream",
          "name": "stdout",
          "text": [
            "Naive Bayes Model 10-fold cross validation score on training set is: 79%\n",
            "Accuracy of the Naive Bayes model on test set is:  80 %\n",
            "Precision of the Naive Bayes model on test set is:  85 %\n",
            "Recall of the Naive Bayes model on test set is:  74 %\n",
            "F1 Score of the Naive Bayes model on test set is:  79 %\n",
            "Classification Report: \n",
            "               precision    recall  f1-score   support\n",
            "\n",
            "           0       0.85      0.74      0.79       912\n",
            "           1       0.77      0.87      0.82       909\n",
            "\n",
            "    accuracy                           0.80      1821\n",
            "   macro avg       0.81      0.80      0.80      1821\n",
            "weighted avg       0.81      0.80      0.80      1821\n",
            "\n",
            "Naive Bayes Model 10-fold cross validation score on testing set is: 75%\n"
          ]
        }
      ]
    },
    {
      "cell_type": "code",
      "source": [],
      "metadata": {
        "id": "jiybCkZvk93N"
      },
      "execution_count": null,
      "outputs": []
    },
    {
      "cell_type": "markdown",
      "source": [
        "2)SVM"
      ],
      "metadata": {
        "id": "0jVqHsDgrTkm"
      }
    },
    {
      "cell_type": "code",
      "source": [],
      "metadata": {
        "id": "j19Ge0hyk96v"
      },
      "execution_count": null,
      "outputs": []
    },
    {
      "cell_type": "code",
      "source": [
        "# Import necessary libraries\n",
        "from sklearn.svm import SVC\n",
        "from sklearn.metrics import accuracy_score, precision_score, recall_score, f1_score\n",
        "\n",
        "# Train the model\n",
        "clf = SVC(kernel='linear')\n",
        "clf.fit(X_train, y_train)\n",
        "\n",
        "# Make predictions on the validation set\n",
        "y_pred_valid = clf.predict(X_valid)\n",
        "\n",
        "# Calculate evaluation metrics on the validation set\n",
        "acc = accuracy_score(y_valid, y_pred_valid)\n",
        "precision = precision_score(y_valid, y_pred_valid, pos_label=0)\n",
        "recall = recall_score(y_valid, y_pred_valid, pos_label=0)\n",
        "f1 = f1_score(y_valid, y_pred_valid, pos_label=0)\n",
        "\n",
        "print(f\"Accuracy on validation set: {round(acc * 100, 2)}%\")\n",
        "print(f\"Precision on validation set: {round(precision * 100, 2)}%\")\n",
        "print(f\"Recall on validation set: {round(recall * 100, 2)}%\")\n",
        "print(f\"F1 score on validation set: {round(f1 * 100, 2)}%\")\n",
        "\n",
        "# Make predictions on the test set\n",
        "y_pred_test = clf.predict(X_test)\n",
        "\n",
        "# Calculate evaluation metrics on the test set\n",
        "acc = accuracy_score(y_test, y_pred_test)\n",
        "precision = precision_score(y_test, y_pred_test, pos_label=0)\n",
        "recall = recall_score(y_test, y_pred_test, pos_label=0)\n",
        "f1 = f1_score(y_test, y_pred_test, pos_label=0)\n",
        "\n",
        "print(f\"Accuracy on test set: {round(acc * 100, 2)}%\")\n",
        "print(f\"Precision on test set: {round(precision * 100, 2)}%\")\n",
        "print(f\"Recall on test set: {round(recall * 100, 2)}%\")\n",
        "print(f\"F1 score on test set: {round(f1 * 100, 2)}%\")\n"
      ],
      "metadata": {
        "colab": {
          "base_uri": "https://localhost:8080/"
        },
        "id": "UPldzgvVk992",
        "outputId": "58dda180-6a92-43eb-a7f6-39ab24efb6e6"
      },
      "execution_count": null,
      "outputs": [
        {
          "output_type": "stream",
          "name": "stdout",
          "text": [
            "Accuracy on validation set: 79.55%\n",
            "Precision on validation set: 79.63%\n",
            "Recall on validation set: 77.36%\n",
            "F1 score on validation set: 78.48%\n",
            "Accuracy on test set: 79.96%\n",
            "Precision on test set: 81.26%\n",
            "Recall on test set: 77.96%\n",
            "F1 score on test set: 79.57%\n"
          ]
        }
      ]
    },
    {
      "cell_type": "code",
      "source": [
        "from sklearn.model_selection import cross_val_score\n",
        "from sklearn.metrics import classification_report\n",
        "\n",
        "# Perform 10-fold cross validation on the training set\n",
        "svm_accuracies_validation = cross_val_score(estimator=clf, X=X_train, y=y_train, cv=10)\n",
        "print(f\"SVM 10-fold cross validation score on training set is: {round(svm_accuracies_validation.mean()*100)}%\")\n",
        "\n",
        "# Make predictions on the test set and calculate evaluation metrics\n",
        "y_pred_test = clf.predict(X_test)\n",
        "acc = accuracy_score(y_test, y_pred_test)\n",
        "precision = precision_score(y_test, y_pred_test, pos_label=0)\n",
        "recall = recall_score(y_test, y_pred_test, pos_label=0)\n",
        "f1 = f1_score(y_test, y_pred_test, pos_label=0)\n",
        "\n",
        "# Print evaluation metrics on the test set\n",
        "print(\"Accuracy of the SVM model on test set is: \", round(acc*100), \"%\")\n",
        "print(\"Precision of the SVM model on test set is: \", round(precision*100), \"%\")\n",
        "print(\"Recall of the SVM model on test set is: \", round(recall*100), \"%\")\n",
        "print(\"F1 Score of the SVM model on test set is: \", round(f1*100), \"%\")\n",
        "\n",
        "# Print classification report on the test set\n",
        "cr_svm_test = classification_report(y_test, y_pred_test)\n",
        "print(\"Classification Report: \\n\", cr_svm_test)\n",
        "\n",
        "# Perform 10-fold cross validation on the test set\n",
        "svm_accuracies_test = cross_val_score(estimator=clf, X=X_test, y=y_test, cv=10)\n",
        "print(f\"SVM 10-fold cross validation score on testing set is: {round(svm_accuracies_test.mean()*100)}%\")\n"
      ],
      "metadata": {
        "colab": {
          "base_uri": "https://localhost:8080/"
        },
        "id": "4m0kjwGhk-BW",
        "outputId": "978a9135-0d96-48eb-9875-569b64175940"
      },
      "execution_count": null,
      "outputs": [
        {
          "output_type": "stream",
          "name": "stdout",
          "text": [
            "SVM 10-fold cross validation score on training set is: 78%\n",
            "Accuracy of the SVM model on test set is:  80 %\n",
            "Precision of the SVM model on test set is:  81 %\n",
            "Recall of the SVM model on test set is:  78 %\n",
            "F1 Score of the SVM model on test set is:  80 %\n",
            "Classification Report: \n",
            "               precision    recall  f1-score   support\n",
            "\n",
            "           0       0.81      0.78      0.80       912\n",
            "           1       0.79      0.82      0.80       909\n",
            "\n",
            "    accuracy                           0.80      1821\n",
            "   macro avg       0.80      0.80      0.80      1821\n",
            "weighted avg       0.80      0.80      0.80      1821\n",
            "\n",
            "SVM 10-fold cross validation score on testing set is: 73%\n"
          ]
        }
      ]
    },
    {
      "cell_type": "code",
      "source": [],
      "metadata": {
        "id": "Y_FmbfaLk-Er"
      },
      "execution_count": null,
      "outputs": []
    },
    {
      "cell_type": "markdown",
      "source": [
        "3) KNN"
      ],
      "metadata": {
        "id": "L-eYG2ze5vxH"
      }
    },
    {
      "cell_type": "code",
      "source": [
        "# Import necessary libraries\n",
        "from sklearn.neighbors import KNeighborsClassifier\n",
        "from sklearn.metrics import accuracy_score, precision_score, recall_score, f1_score\n",
        "\n",
        "# Train the model\n",
        "clf = KNeighborsClassifier(n_neighbors=5)\n",
        "clf.fit(X_train, y_train)\n",
        "\n",
        "# Make predictions on the validation set\n",
        "y_pred_valid = clf.predict(X_valid)\n",
        "\n",
        "# Calculate evaluation metrics on the validation set\n",
        "acc = accuracy_score(y_valid, y_pred_valid)\n",
        "precision = precision_score(y_valid, y_pred_valid, pos_label=0)\n",
        "recall = recall_score(y_valid, y_pred_valid, pos_label=0)\n",
        "f1 = f1_score(y_valid, y_pred_valid, pos_label=0)\n",
        "\n",
        "print(f\"Accuracy on validation set: {round(acc * 100, 2)}%\")\n",
        "print(f\"Precision on validation set: {round(precision * 100, 2)}%\")\n",
        "print(f\"Recall on validation set: {round(recall * 100, 2)}%\")\n",
        "print(f\"F1 score on validation set: {round(f1 * 100, 2)}%\")\n",
        "\n",
        "# Make predictions on the test set\n",
        "y_pred_test = clf.predict(X_test)\n",
        "\n",
        "# Calculate evaluation metrics on the test set\n",
        "acc = accuracy_score(y_test, y_pred_test)\n",
        "precision = precision_score(y_test, y_pred_test, pos_label=0)\n",
        "recall = recall_score(y_test, y_pred_test, pos_label=0)\n",
        "f1 = f1_score(y_test, y_pred_test, pos_label=0)\n",
        "\n",
        "print(f\"Accuracy on test set: {round(acc * 100, 2)}%\")\n",
        "print(f\"Precision on test set: {round(precision * 100, 2)}%\")\n",
        "print(f\"Recall on test set: {round(recall * 100, 2)}%\")\n",
        "print(f\"F1 score on test set: {round(f1 * 100, 2)}%\")\n"
      ],
      "metadata": {
        "colab": {
          "base_uri": "https://localhost:8080/"
        },
        "id": "0bj9NuKI5tBP",
        "outputId": "3469d43f-fa99-45a2-a72a-c25e74424f9d"
      },
      "execution_count": null,
      "outputs": [
        {
          "output_type": "stream",
          "name": "stdout",
          "text": [
            "Accuracy on validation set: 74.13%\n",
            "Precision on validation set: 75.2%\n",
            "Recall on validation set: 69.12%\n",
            "F1 score on validation set: 72.03%\n",
            "Accuracy on test set: 73.04%\n",
            "Precision on test set: 76.35%\n",
            "Recall on test set: 66.89%\n",
            "F1 score on test set: 71.3%\n"
          ]
        }
      ]
    },
    {
      "cell_type": "code",
      "source": [
        "from sklearn.model_selection import cross_val_score\n",
        "from sklearn.metrics import classification_report\n",
        "\n",
        "# Perform 10-fold cross validation on the training set\n",
        "knn_accuracies_validation = cross_val_score(estimator=clf, X=X_train, y=y_train, cv=10)\n",
        "print(f\"KNN 10-fold cross validation score on training set is: {round(knn_accuracies_validation.mean()*100)}%\")\n",
        "\n",
        "# Make predictions on the test set and calculate evaluation metrics\n",
        "y_pred_test = clf.predict(X_test)\n",
        "acc = accuracy_score(y_test, y_pred_test)\n",
        "precision = precision_score(y_test, y_pred_test, pos_label=0)\n",
        "recall = recall_score(y_test, y_pred_test, pos_label=0)\n",
        "f1 = f1_score(y_test, y_pred_test, pos_label=0)\n",
        "\n",
        "# Print evaluation metrics on the test set\n",
        "print(\"Accuracy of the KNN model on test set is: \", round(acc*100), \"%\")\n",
        "print(\"Precision of the KNN model on test set is: \", round(precision*100), \"%\")\n",
        "print(\"Recall of the KNN model on test set is: \", round(recall*100), \"%\")\n",
        "print(\"F1 Score of the KNN model on test set is: \", round(f1*100), \"%\")\n",
        "\n",
        "# Print classification report on the test set\n",
        "cr_knn_test = classification_report(y_test, y_pred_test)\n",
        "print(\"Classification Report: \\n\", cr_knn_test)\n",
        "\n",
        "# Perform 10-fold cross validation on the test set\n",
        "knn_accuracies_test = cross_val_score(estimator=clf, X=X_test, y=y_test, cv=10)\n",
        "print(f\"KNN 10-fold cross validation score on testing set is: {round(knn_accuracies_test.mean()*100)}%\")\n"
      ],
      "metadata": {
        "colab": {
          "base_uri": "https://localhost:8080/"
        },
        "id": "wROX2DnA5tQ3",
        "outputId": "d01173e3-06c2-47da-f301-92723bc31f13"
      },
      "execution_count": null,
      "outputs": [
        {
          "output_type": "stream",
          "name": "stdout",
          "text": [
            "KNN 10-fold cross validation score on training set is: 71%\n",
            "Accuracy of the KNN model on test set is:  73 %\n",
            "Precision of the KNN model on test set is:  76 %\n",
            "Recall of the KNN model on test set is:  67 %\n",
            "F1 Score of the KNN model on test set is:  71 %\n",
            "Classification Report: \n",
            "               precision    recall  f1-score   support\n",
            "\n",
            "           0       0.76      0.67      0.71       912\n",
            "           1       0.70      0.79      0.75       909\n",
            "\n",
            "    accuracy                           0.73      1821\n",
            "   macro avg       0.73      0.73      0.73      1821\n",
            "weighted avg       0.73      0.73      0.73      1821\n",
            "\n",
            "KNN 10-fold cross validation score on testing set is: 67%\n"
          ]
        }
      ]
    },
    {
      "cell_type": "code",
      "source": [],
      "metadata": {
        "id": "V8oIyxns5tgp"
      },
      "execution_count": null,
      "outputs": []
    },
    {
      "cell_type": "markdown",
      "source": [
        "4)Decison Tree"
      ],
      "metadata": {
        "id": "iOp4TeYt6kDC"
      }
    },
    {
      "cell_type": "code",
      "source": [
        "# Import necessary libraries\n",
        "from sklearn.tree import DecisionTreeClassifier\n",
        "from sklearn.metrics import accuracy_score, precision_score, recall_score, f1_score, classification_report\n",
        "from sklearn.model_selection import cross_val_score\n",
        "\n",
        "# Train the model\n",
        "clf = DecisionTreeClassifier()\n",
        "clf.fit(X_train, y_train)\n",
        "\n",
        "# Make predictions on the validation set\n",
        "y_pred_valid = clf.predict(X_valid)\n",
        "\n",
        "# Calculate evaluation metrics on the validation set\n",
        "acc = accuracy_score(y_valid, y_pred_valid)\n",
        "precision = precision_score(y_valid, y_pred_valid, pos_label=0)\n",
        "recall = recall_score(y_valid, y_pred_valid, pos_label=0)\n",
        "f1 = f1_score(y_valid, y_pred_valid, pos_label=0)\n",
        "\n",
        "print(f\"Accuracy on validation set: {round(acc * 100, 2)}%\")\n",
        "print(f\"Precision on validation set: {round(precision * 100, 2)}%\")\n",
        "print(f\"Recall on validation set: {round(recall * 100, 2)}%\")\n",
        "print(f\"F1 score on validation set: {round(f1 * 100, 2)}%\")\n",
        "\n",
        "# Make predictions on the test set\n",
        "y_pred_test = clf.predict(X_test)\n",
        "\n",
        "# Calculate evaluation metrics on the test set\n",
        "acc = accuracy_score(y_test, y_pred_test)\n",
        "precision = precision_score(y_test, y_pred_test, pos_label=0)\n",
        "recall = recall_score(y_test, y_pred_test, pos_label=0)\n",
        "f1 = f1_score(y_test, y_pred_test, pos_label=0)\n",
        "\n",
        "print(f\"Accuracy on test set: {round(acc * 100, 2)}%\")\n",
        "print(f\"Precision on test set: {round(precision * 100, 2)}%\")\n",
        "print(f\"Recall on test set: {round(recall * 100, 2)}%\")\n",
        "print(f\"F1 score on test set: {round(f1 * 100, 2)}%\")\n",
        "\n",
        "# Perform 10-fold cross validation on the training set\n",
        "dt_accuracies_validation = cross_val_score(estimator=clf, X=X_train, y=y_train, cv=10)\n",
        "print(f\"Decision Tree 10-fold cross validation score on training set is: {round(dt_accuracies_validation.mean()*100)}%\")\n",
        "\n",
        "# Make predictions on the test set and calculate evaluation metrics\n",
        "y_pred_test = clf.predict(X_test)\n",
        "acc = accuracy_score(y_test, y_pred_test)\n",
        "precision = precision_score(y_test, y_pred_test, pos_label=0)\n",
        "recall = recall_score(y_test, y_pred_test, pos_label=0)\n",
        "f1 = f1_score(y_test, y_pred_test, pos_label=0)\n",
        "\n",
        "# Print evaluation metrics on the test set\n",
        "print(\"Accuracy of the Decision Tree model on test set is: \", round(acc*100), \"%\")\n",
        "print(\"Precision of the Decision Tree model on test set is: \", round(precision*100), \"%\")\n",
        "print(\"Recall of the Decision Tree model on test set is: \", round(recall*100), \"%\")\n",
        "print(\"F1 Score of the Decision Tree model on test set is: \", round(f1*100), \"%\")\n",
        "\n",
        "# Print classification report on the test set\n",
        "cr_dt_test = classification_report(y_test, y_pred_test)\n",
        "print(\"Classification Report: \\n\", cr_dt_test)\n",
        "\n",
        "# Perform 10-fold cross validation on the test set\n",
        "dt_accuracies_test = cross_val_score(estimator=clf, X=X_test, y=y_test, cv=10)\n",
        "print(f\"Decision Tree 10-fold cross validation score on testing set is: {round(dt_accuracies_test.mean()*100)}%\")\n"
      ],
      "metadata": {
        "colab": {
          "base_uri": "https://localhost:8080/"
        },
        "id": "PdHXXQIh5tws",
        "outputId": "bb25f621-a2ac-4349-c77c-8d18b060f7e9"
      },
      "execution_count": null,
      "outputs": [
        {
          "output_type": "stream",
          "name": "stdout",
          "text": [
            "Accuracy on validation set: 61.56%\n",
            "Precision on validation set: 60.15%\n",
            "Recall on validation set: 59.97%\n",
            "F1 score on validation set: 60.06%\n",
            "Accuracy on test set: 62.82%\n",
            "Precision on test set: 63.91%\n",
            "Recall on test set: 59.21%\n",
            "F1 score on test set: 61.47%\n",
            "Decision Tree 10-fold cross validation score on training set is: 61%\n",
            "Accuracy of the Decision Tree model on test set is:  63 %\n",
            "Precision of the Decision Tree model on test set is:  64 %\n",
            "Recall of the Decision Tree model on test set is:  59 %\n",
            "F1 Score of the Decision Tree model on test set is:  61 %\n",
            "Classification Report: \n",
            "               precision    recall  f1-score   support\n",
            "\n",
            "           0       0.64      0.59      0.61       912\n",
            "           1       0.62      0.66      0.64       909\n",
            "\n",
            "    accuracy                           0.63      1821\n",
            "   macro avg       0.63      0.63      0.63      1821\n",
            "weighted avg       0.63      0.63      0.63      1821\n",
            "\n",
            "Decision Tree 10-fold cross validation score on testing set is: 60%\n"
          ]
        }
      ]
    },
    {
      "cell_type": "code",
      "source": [],
      "metadata": {
        "id": "kFFDjFrj5uBE"
      },
      "execution_count": null,
      "outputs": []
    },
    {
      "cell_type": "markdown",
      "source": [
        "5)Random Forest"
      ],
      "metadata": {
        "id": "A1vEVga4-O_R"
      }
    },
    {
      "cell_type": "code",
      "source": [
        "from sklearn.ensemble import RandomForestClassifier\n",
        "from sklearn.metrics import accuracy_score, precision_score, recall_score, f1_score, classification_report\n",
        "from sklearn.model_selection import cross_val_score\n",
        "\n",
        "# Train the random forest classifier\n",
        "rf = RandomForestClassifier(n_estimators=100, random_state=42)\n",
        "rf.fit(X_train, y_train)\n",
        "\n",
        "# Make predictions on the validation set\n",
        "y_pred_valid = rf.predict(X_valid)\n",
        "\n",
        "# Calculate evaluation metrics on the validation set\n",
        "acc = accuracy_score(y_valid, y_pred_valid)\n",
        "precision = precision_score(y_valid, y_pred_valid, pos_label=0)\n",
        "recall = recall_score(y_valid, y_pred_valid, pos_label=0)\n",
        "f1 = f1_score(y_valid, y_pred_valid, pos_label=0)\n",
        "\n",
        "print(f\"Accuracy on validation set: {round(acc * 100, 2)}%\")\n",
        "print(f\"Precision on validation set: {round(precision * 100, 2)}%\")\n",
        "print(f\"Recall on validation set: {round(recall * 100, 2)}%\")\n",
        "print(f\"F1 score on validation set: {round(f1 * 100, 2)}%\")\n",
        "\n",
        "# Make predictions on the test set\n",
        "y_pred_test = rf.predict(X_test)\n",
        "\n",
        "# Calculate evaluation metrics on the test set\n",
        "acc = accuracy_score(y_test, y_pred_test)\n",
        "precision = precision_score(y_test, y_pred_test, pos_label=0)\n",
        "recall = recall_score(y_test, y_pred_test, pos_label=0)\n",
        "f1 = f1_score(y_test, y_pred_test, pos_label=0)\n",
        "\n",
        "print(f\"Accuracy on test set: {round(acc * 100, 2)}%\")\n",
        "print(f\"Precision on test set: {round(precision * 100, 2)}%\")\n",
        "print(f\"Recall on test set: {round(recall * 100, 2)}%\")\n",
        "print(f\"F1 score on test set: {round(f1 * 100, 2)}%\")\n",
        "\n",
        "# Perform 10-fold cross validation on the training set\n",
        "rf_accuracies_validation = cross_val_score(estimator=rf, X=X_train, y=y_train, cv=10)\n",
        "print(f\"Random Forest 10-fold cross validation score on training set is: {round(rf_accuracies_validation.mean()*100)}%\")\n",
        "\n",
        "# Print classification report on the test set\n",
        "cr_rf_test = classification_report(y_test, y_pred_test)\n",
        "print(\"Classification Report: \\n\", cr_rf_test)\n",
        "\n",
        "# Perform 10-fold cross validation on the test set\n",
        "rf_accuracies_test = cross_val_score(estimator=rf, X=X_test, y=y_test, cv=10)\n",
        "print(f\"Random Forest 10-fold cross validation score on testing set is: {round(rf_accuracies_test.mean()*100)}%\")\n"
      ],
      "metadata": {
        "colab": {
          "base_uri": "https://localhost:8080/"
        },
        "id": "Mtw8C5VB-QDD",
        "outputId": "3d85d4bc-fe36-46b1-a2ba-4110b1fa2bdf"
      },
      "execution_count": null,
      "outputs": [
        {
          "output_type": "stream",
          "name": "stdout",
          "text": [
            "Accuracy on validation set: 71.6%\n",
            "Precision on validation set: 72.46%\n",
            "Recall on validation set: 66.27%\n",
            "F1 score on validation set: 69.22%\n",
            "Accuracy on test set: 71.66%\n",
            "Precision on test set: 74.26%\n",
            "Recall on test set: 66.45%\n",
            "F1 score on test set: 70.14%\n",
            "Random Forest 10-fold cross validation score on training set is: 71%\n",
            "Classification Report: \n",
            "               precision    recall  f1-score   support\n",
            "\n",
            "           0       0.74      0.66      0.70       912\n",
            "           1       0.70      0.77      0.73       909\n",
            "\n",
            "    accuracy                           0.72      1821\n",
            "   macro avg       0.72      0.72      0.72      1821\n",
            "weighted avg       0.72      0.72      0.72      1821\n",
            "\n",
            "Random Forest 10-fold cross validation score on testing set is: 67%\n"
          ]
        }
      ]
    },
    {
      "cell_type": "markdown",
      "source": [
        "5)XGBoost"
      ],
      "metadata": {
        "id": "9nqjUzPVAFdo"
      }
    },
    {
      "cell_type": "code",
      "source": [
        "import xgboost as xgb\n",
        "from sklearn.metrics import accuracy_score, precision_score, recall_score, f1_score, classification_report\n",
        "from sklearn.model_selection import cross_val_score\n",
        "\n",
        "# Train the XGBoost classifier with 100 estimators and a random seed of 42\n",
        "xgb_model = xgb.XGBClassifier(n_estimators=100, random_state=42)\n",
        "xgb_model.fit(X_train, y_train)\n",
        "\n",
        "# Make predictions on the validation set\n",
        "y_pred_valid = xgb_model.predict(X_valid)\n",
        "\n",
        "# Calculate evaluation metrics on the validation set\n",
        "acc = accuracy_score(y_valid, y_pred_valid)\n",
        "precision = precision_score(y_valid, y_pred_valid, pos_label=0)\n",
        "recall = recall_score(y_valid, y_pred_valid, pos_label=0)\n",
        "f1 = f1_score(y_valid, y_pred_valid, pos_label=0)\n",
        "\n",
        "# Print the evaluation metrics for the validation set\n",
        "print(f\"Accuracy on validation set: {round(acc * 100, 2)}%\")\n",
        "print(f\"Precision on validation set: {round(precision * 100, 2)}%\")\n",
        "print(f\"Recall on validation set: {round(recall * 100, 2)}%\")\n",
        "print(f\"F1 score on validation set: {round(f1 * 100, 2)}%\")\n",
        "\n",
        "# Make predictions on the test set\n",
        "y_pred_test = xgb_model.predict(X_test)\n",
        "\n",
        "# Calculate evaluation metrics on the test set\n",
        "acc = accuracy_score(y_test, y_pred_test)\n",
        "precision = precision_score(y_test, y_pred_test, pos_label=0)\n",
        "recall = recall_score(y_test, y_pred_test, pos_label=0)\n",
        "f1 = f1_score(y_test, y_pred_test, pos_label=0)\n",
        "\n",
        "# Print the evaluation metrics for the test set\n",
        "print(f\"Accuracy on test set: {round(acc * 100, 2)}%\")\n",
        "print(f\"Precision on test set: {round(precision * 100, 2)}%\")\n",
        "print(f\"Recall on test set: {round(recall * 100, 2)}%\")\n",
        "print(f\"F1 score on test set: {round(f1 * 100, 2)}%\")\n",
        "\n",
        "# Perform 10-fold cross validation on the training set\n",
        "xgb_accuracies_validation = cross_val_score(estimator=xgb_model, X=X_train, y=y_train, cv=10)\n",
        "print(f\"XGBoost 10-fold cross validation score on training set is: {round(xgb_accuracies_validation.mean()*100)}%\")\n",
        "\n",
        "# Print the classification report for the test set\n",
        "cr_xgb_test = classification_report(y_test, y_pred_test)\n",
        "print(\"Classification Report: \\n\", cr_xgb_test)\n",
        "\n",
        "# Perform 10-fold cross validation on the test set\n",
        "xgb_accuracies_test = cross_val_score(estimator=xgb_model, X=X_test, y=y_test, cv=10)\n",
        "print(f\"XGBoost 10-fold cross validation score on testing set is: {round(xgb_accuracies_test.mean()*100)}%\")\n"
      ],
      "metadata": {
        "colab": {
          "base_uri": "https://localhost:8080/"
        },
        "id": "pWItx6tH-QHJ",
        "outputId": "35a091e2-64db-4e60-e413-4108922d3e7a"
      },
      "execution_count": null,
      "outputs": [
        {
          "output_type": "stream",
          "name": "stdout",
          "text": [
            "Accuracy on validation set: 70.38%\n",
            "Precision on validation set: 71.17%\n",
            "Recall on validation set: 64.77%\n",
            "F1 score on validation set: 67.82%\n",
            "Accuracy on test set: 72.76%\n",
            "Precision on test set: 75.43%\n",
            "Recall on test set: 67.65%\n",
            "F1 score on test set: 71.33%\n",
            "XGBoost 10-fold cross validation score on training set is: 71%\n",
            "Classification Report: \n",
            "               precision    recall  f1-score   support\n",
            "\n",
            "           0       0.75      0.68      0.71       912\n",
            "           1       0.71      0.78      0.74       909\n",
            "\n",
            "    accuracy                           0.73      1821\n",
            "   macro avg       0.73      0.73      0.73      1821\n",
            "weighted avg       0.73      0.73      0.73      1821\n",
            "\n",
            "XGBoost 10-fold cross validation score on testing set is: 66%\n"
          ]
        }
      ]
    },
    {
      "cell_type": "code",
      "source": [],
      "metadata": {
        "id": "PFkey_1h-QMP"
      },
      "execution_count": null,
      "outputs": []
    },
    {
      "cell_type": "code",
      "source": [],
      "metadata": {
        "id": "gFIrrHZw5uR2"
      },
      "execution_count": null,
      "outputs": []
    },
    {
      "cell_type": "markdown",
      "metadata": {
        "id": "Liy2SrqHyAva"
      },
      "source": [
        "(20 points) The purpose of the question is to practice different machine learning algorithms for text clustering\n",
        "Please downlad the dataset by using the following link.  https://www.kaggle.com/PromptCloudHQ/amazon-reviews-unlocked-mobile-phones\n",
        "(You can also use different text data which you want)\n",
        "\n",
        "Apply the listed clustering methods to the dataset:\n",
        "\n",
        "K-means\n",
        "\n",
        "DBSCAN\n",
        "\n",
        "Hierarchical clustering\n",
        "\n",
        "Word2Vec\n",
        "\n",
        "BERT\n",
        "\n",
        "You can refer to of the codes from  the follwing link below. \n",
        "https://www.kaggle.com/karthik3890/text-clustering "
      ]
    },
    {
      "cell_type": "markdown",
      "source": [
        "K-means"
      ],
      "metadata": {
        "id": "15cCuyoRBkDu"
      }
    },
    {
      "cell_type": "code",
      "source": [
        "!pip install transformers"
      ],
      "metadata": {
        "colab": {
          "base_uri": "https://localhost:8080/"
        },
        "id": "mr_EcgYtRFJM",
        "outputId": "ebdd2fee-0969-44f5-b02f-cf7819ca90c0"
      },
      "execution_count": null,
      "outputs": [
        {
          "output_type": "stream",
          "name": "stdout",
          "text": [
            "Looking in indexes: https://pypi.org/simple, https://us-python.pkg.dev/colab-wheels/public/simple/\n",
            "Collecting transformers\n",
            "  Downloading transformers-4.28.1-py3-none-any.whl (7.0 MB)\n",
            "\u001b[2K     \u001b[90m━━━━━━━━━━━━━━━━━━━━━━━━━━━━━━━━━━━━━━━━\u001b[0m \u001b[32m7.0/7.0 MB\u001b[0m \u001b[31m70.5 MB/s\u001b[0m eta \u001b[36m0:00:00\u001b[0m\n",
            "\u001b[?25hRequirement already satisfied: packaging>=20.0 in /usr/local/lib/python3.9/dist-packages (from transformers) (23.1)\n",
            "Requirement already satisfied: tqdm>=4.27 in /usr/local/lib/python3.9/dist-packages (from transformers) (4.65.0)\n",
            "Requirement already satisfied: filelock in /usr/local/lib/python3.9/dist-packages (from transformers) (3.12.0)\n",
            "Collecting tokenizers!=0.11.3,<0.14,>=0.11.1\n",
            "  Downloading tokenizers-0.13.3-cp39-cp39-manylinux_2_17_x86_64.manylinux2014_x86_64.whl (7.8 MB)\n",
            "\u001b[2K     \u001b[90m━━━━━━━━━━━━━━━━━━━━━━━━━━━━━━━━━━━━━━━━\u001b[0m \u001b[32m7.8/7.8 MB\u001b[0m \u001b[31m100.2 MB/s\u001b[0m eta \u001b[36m0:00:00\u001b[0m\n",
            "\u001b[?25hRequirement already satisfied: pyyaml>=5.1 in /usr/local/lib/python3.9/dist-packages (from transformers) (6.0)\n",
            "Requirement already satisfied: requests in /usr/local/lib/python3.9/dist-packages (from transformers) (2.27.1)\n",
            "Collecting huggingface-hub<1.0,>=0.11.0\n",
            "  Downloading huggingface_hub-0.14.1-py3-none-any.whl (224 kB)\n",
            "\u001b[2K     \u001b[90m━━━━━━━━━━━━━━━━━━━━━━━━━━━━━━━━━━━━━━\u001b[0m \u001b[32m224.5/224.5 kB\u001b[0m \u001b[31m27.1 MB/s\u001b[0m eta \u001b[36m0:00:00\u001b[0m\n",
            "\u001b[?25hRequirement already satisfied: numpy>=1.17 in /usr/local/lib/python3.9/dist-packages (from transformers) (1.22.4)\n",
            "Requirement already satisfied: regex!=2019.12.17 in /usr/local/lib/python3.9/dist-packages (from transformers) (2022.10.31)\n",
            "Requirement already satisfied: typing-extensions>=3.7.4.3 in /usr/local/lib/python3.9/dist-packages (from huggingface-hub<1.0,>=0.11.0->transformers) (4.5.0)\n",
            "Requirement already satisfied: fsspec in /usr/local/lib/python3.9/dist-packages (from huggingface-hub<1.0,>=0.11.0->transformers) (2023.4.0)\n",
            "Requirement already satisfied: urllib3<1.27,>=1.21.1 in /usr/local/lib/python3.9/dist-packages (from requests->transformers) (1.26.15)\n",
            "Requirement already satisfied: certifi>=2017.4.17 in /usr/local/lib/python3.9/dist-packages (from requests->transformers) (2022.12.7)\n",
            "Requirement already satisfied: charset-normalizer~=2.0.0 in /usr/local/lib/python3.9/dist-packages (from requests->transformers) (2.0.12)\n",
            "Requirement already satisfied: idna<4,>=2.5 in /usr/local/lib/python3.9/dist-packages (from requests->transformers) (3.4)\n",
            "Installing collected packages: tokenizers, huggingface-hub, transformers\n",
            "Successfully installed huggingface-hub-0.14.1 tokenizers-0.13.3 transformers-4.28.1\n"
          ]
        }
      ]
    },
    {
      "cell_type": "code",
      "execution_count": 8,
      "metadata": {
        "id": "83sEavSNyAva",
        "colab": {
          "base_uri": "https://localhost:8080/"
        },
        "outputId": "d538b599-6562-425a-8c6a-c54c282e04f9"
      },
      "outputs": [
        {
          "output_type": "stream",
          "name": "stderr",
          "text": [
            "<ipython-input-8-91195017ba30>:16: FutureWarning: The default value of regex will change from True to False in a future version.\n",
            "  df['Reviews'] = df['Reviews'].str.replace('[^a-zA-Z]', ' ')\n",
            "<ipython-input-8-91195017ba30>:17: FutureWarning: The default value of regex will change from True to False in a future version.\n",
            "  df['Reviews'] = df['Reviews'].str.replace('\\s+', ' ')\n"
          ]
        }
      ],
      "source": [
        "import pandas as pd\n",
        "import numpy as np\n",
        "import matplotlib.pyplot as plt\n",
        "import seaborn as sns\n",
        "from sklearn.feature_extraction.text import TfidfVectorizer\n",
        "from sklearn.cluster import KMeans, DBSCAN, AgglomerativeClustering\n",
        "from gensim.models import Word2Vec\n",
        "from transformers import BertTokenizer, BertModel\n",
        "\n",
        "# Load the dataset\n",
        "df = pd.read_csv('Amazon_Unlocked_Mobile.csv')\n",
        "df = df.sample(n=20000, random_state=42)\n",
        "\n",
        "# Preprocess the text data\n",
        "df['Reviews'] = df['Reviews'].str.lower()\n",
        "df['Reviews'] = df['Reviews'].str.replace('[^a-zA-Z]', ' ')\n",
        "df['Reviews'] = df['Reviews'].str.replace('\\s+', ' ')\n",
        "\n",
        "# TF-IDF vectorization\n",
        "from sklearn.feature_extraction.text import TfidfVectorizer\n",
        "tfidf_vects= TfidfVectorizer()\n",
        "tfidf_vects = tfidf_vect.fit_transform(df['Reviews'].values.astype('U'))"
      ]
    },
    {
      "cell_type": "code",
      "source": [
        "## ELBOW METHOD\n",
        "\n",
        "from sklearn.cluster import KMeans\n",
        "wcss = []\n",
        "for i in range(2,12):\n",
        "    kmeans = KMeans(n_clusters = i, init = \"k-means++\", random_state = 101)\n",
        "    kmeans.fit(tfidf_vects)\n",
        "    wcss.append(kmeans.inertia_)\n",
        "\n",
        "plt.figure(figsize = (11,6))\n",
        "plt.plot(range(2,12), wcss, marker = \"o\")\n",
        "plt.title (\"The Elbow Method\")\n",
        "plt.xlabel(\"Number of clusters\")\n",
        "plt.ylabel(\"WCSS\")\n"
      ],
      "metadata": {
        "colab": {
          "base_uri": "https://localhost:8080/",
          "height": 636
        },
        "id": "cf2h3lxbR-Eo",
        "outputId": "ad0b909a-099d-44d9-d1d1-dec39cb0582c"
      },
      "execution_count": 9,
      "outputs": [
        {
          "output_type": "stream",
          "name": "stderr",
          "text": [
            "/usr/local/lib/python3.9/dist-packages/sklearn/cluster/_kmeans.py:870: FutureWarning: The default value of `n_init` will change from 10 to 'auto' in 1.4. Set the value of `n_init` explicitly to suppress the warning\n",
            "  warnings.warn(\n"
          ]
        },
        {
          "output_type": "execute_result",
          "data": {
            "text/plain": [
              "Text(0, 0.5, 'WCSS')"
            ]
          },
          "metadata": {},
          "execution_count": 9
        },
        {
          "output_type": "display_data",
          "data": {
            "text/plain": [
              "<Figure size 1100x600 with 1 Axes>"
            ],
            "image/png": "[encoded data removed]"
          },
          "metadata": {}
        }
      ]
    },
    {
      "cell_type": "code",
      "source": [
        "from sklearn.cluster import KMeans\n",
        "\n",
        "# create an instance of KMeans with 6 clusters\n",
        "model = KMeans(n_clusters=6, random_state=42)\n",
        "\n",
        "# fit the data to the model\n",
        "model.fit(tfidf_vects)\n",
        "feature_names = tfidf_vect.get_feature_names_out()\n",
        "\n",
        "# get the centroids for each cluster\n",
        "centroids = model.cluster_centers_.argsort()[:, ::-1]\n",
        "\n",
        "# define the number of top words to extract per cluster\n",
        "top_words = 7\n",
        "\n",
        "# extract the top words for each cluster\n",
        "for cluster_num in range(6):\n",
        "    key_features = [feature_names[i] for i in centroids[cluster_num, :top_words]]\n",
        "    print('Cluster ' + str(cluster_num+1))\n",
        "    print('Top Words:', key_features)\n"
      ],
      "metadata": {
        "colab": {
          "base_uri": "https://localhost:8080/"
        },
        "id": "-HlrhU4TTaWr",
        "outputId": "3434e82d-5bdb-4c18-9f6b-42fa66598275"
      },
      "execution_count": 26,
      "outputs": [
        {
          "output_type": "stream",
          "name": "stderr",
          "text": [
            "/usr/local/lib/python3.9/dist-packages/sklearn/cluster/_kmeans.py:870: FutureWarning: The default value of `n_init` will change from 10 to 'auto' in 1.4. Set the value of `n_init` explicitly to suppress the warning\n",
            "  warnings.warn(\n"
          ]
        },
        {
          "output_type": "stream",
          "name": "stdout",
          "text": [
            "Cluster 1\n",
            "Top Words: ['good', 'very', 'phone', 'product', 'price', 'it', 'is']\n",
            "Cluster 2\n",
            "Top Words: ['the', 'it', 'and', 'phone', 'to', 'is', 'this']\n",
            "Cluster 3\n",
            "Top Words: ['it', 'phone', 'love', 'and', 'the', 'very', 'good']\n",
            "Cluster 4\n",
            "Top Words: ['excellent', 'product', 'phone', 'recommend', 'condition', 'very', 'thank']\n",
            "Cluster 5\n",
            "Top Words: ['great', 'phone', 'works', 'product', 'price', 'it', 'for']\n",
            "Cluster 6\n",
            "Top Words: ['excelente', 'producto', 'recomendado', 'telefono', 'gracias', 'movil', 'servicio']\n"
          ]
        }
      ]
    },
    {
      "cell_type": "code",
      "source": [
        "cluster_center=model.cluster_centers_\n",
        "cluster_center"
      ],
      "metadata": {
        "colab": {
          "base_uri": "https://localhost:8080/"
        },
        "id": "PUWcu8-4TeGh",
        "outputId": "9a7d9c8f-6a0a-4477-d7fd-9d0963261cd7"
      },
      "execution_count": 27,
      "outputs": [
        {
          "output_type": "execute_result",
          "data": {
            "text/plain": [
              "array([[0.00000000e+00, 0.00000000e+00, 0.00000000e+00, ...,\n",
              "        0.00000000e+00, 0.00000000e+00, 0.00000000e+00],\n",
              "       [1.00736928e-05, 6.17174608e-06, 0.00000000e+00, ...,\n",
              "        8.92506306e-06, 6.38683863e-05, 0.00000000e+00],\n",
              "       [7.49374306e-05, 3.48328622e-04, 1.89215235e-05, ...,\n",
              "        0.00000000e+00, 3.59058705e-05, 6.47030255e-06],\n",
              "       [0.00000000e+00, 0.00000000e+00, 0.00000000e+00, ...,\n",
              "        0.00000000e+00, 0.00000000e+00, 0.00000000e+00],\n",
              "       [0.00000000e+00, 0.00000000e+00, 8.27711269e-04, ...,\n",
              "        0.00000000e+00, 0.00000000e+00, 0.00000000e+00],\n",
              "       [0.00000000e+00, 0.00000000e+00, 0.00000000e+00, ...,\n",
              "        0.00000000e+00, 0.00000000e+00, 0.00000000e+00]])"
            ]
          },
          "metadata": {},
          "execution_count": 27
        }
      ]
    },
    {
      "cell_type": "code",
      "source": [
        "!pip install -U scikit-learn\n"
      ],
      "metadata": {
        "colab": {
          "base_uri": "https://localhost:8080/"
        },
        "id": "ZSUqtWuATcnk",
        "outputId": "952fba14-6fba-484a-d614-57b8150e683c"
      },
      "execution_count": 20,
      "outputs": [
        {
          "output_type": "stream",
          "name": "stdout",
          "text": [
            "Looking in indexes: https://pypi.org/simple, https://us-python.pkg.dev/colab-wheels/public/simple/\n",
            "Requirement already satisfied: scikit-learn in /usr/local/lib/python3.9/dist-packages (1.2.2)\n",
            "Requirement already satisfied: joblib>=1.1.1 in /usr/local/lib/python3.9/dist-packages (from scikit-learn) (1.2.0)\n",
            "Requirement already satisfied: scipy>=1.3.2 in /usr/local/lib/python3.9/dist-packages (from scikit-learn) (1.10.1)\n",
            "Requirement already satisfied: threadpoolctl>=2.0.0 in /usr/local/lib/python3.9/dist-packages (from scikit-learn) (3.1.0)\n",
            "Requirement already satisfied: numpy>=1.17.3 in /usr/local/lib/python3.9/dist-packages (from scikit-learn) (1.22.4)\n"
          ]
        }
      ]
    },
    {
      "cell_type": "code",
      "source": [],
      "metadata": {
        "id": "phDxZI2DR-ga"
      },
      "execution_count": null,
      "outputs": []
    },
    {
      "cell_type": "code",
      "source": [
        "reviews=[]\n",
        "for i in df['Reviews']:\n",
        "    reviews.append(str(i).split())\n",
        "import gensim\n",
        "w2v_model=gensim.models.Word2Vec(reviews, vector_size =100, workers=4)\n",
        "\n",
        "import numpy as np\n",
        "vectors = []\n",
        "for i in reviews:\n",
        "    vector = np.zeros(100)\n",
        "    count = 0\n",
        "    for word in i:\n",
        "        try:\n",
        "            vec = w2v_model.wv[word]\n",
        "            vector += vec\n",
        "            count += 1\n",
        "        except:\n",
        "            pass\n",
        "    vector /= count\n",
        "    vectors.append(vector)  \n",
        "vectors = np.array(vectors)\n",
        "vectors = np.nan_to_num(vectors)"
      ],
      "metadata": {
        "id": "wnDC4CT4R-sD",
        "colab": {
          "base_uri": "https://localhost:8080/"
        },
        "outputId": "bced1822-0815-4890-823f-4cb7a27ef64f"
      },
      "execution_count": 30,
      "outputs": [
        {
          "output_type": "stream",
          "name": "stderr",
          "text": [
            "<ipython-input-30-84fa02f916c3>:19: RuntimeWarning: invalid value encountered in true_divide\n",
            "  vector /= count\n"
          ]
        }
      ]
    },
    {
      "cell_type": "code",
      "source": [
        "from sklearn.cluster import DBSCAN\n",
        "minPts = 2 * 100\n",
        "# Lower bound function\n",
        "def lower_bound(nums, target): \n",
        "    l, r = 0, len(nums) - 1\n",
        "    # Binary searching\n",
        "    while l <= r:\n",
        "        mid = int(l + (r - l) / 2)\n",
        "        if nums[mid] >= target:\n",
        "            r = mid - 1\n",
        "        else:\n",
        "            l = mid + 1\n",
        "    return l\n",
        "\n",
        "def compute200thnearestneighbour(x, data): \n",
        "    dists = []\n",
        "    for val in data:\n",
        "      # computing distances\n",
        "        dist = np.sum((x - val) **2 ) \n",
        "        if(len(dists) == 200 and dists[199] > dist): \n",
        "            l = int(lower_bound(dists, dist)) \n",
        "            if l < 200 and l >= 0 and dists[l] > dist:\n",
        "                dists[l] = dist\n",
        "        else:\n",
        "            dists.append(dist)\n",
        "            dists.sort()\n",
        "\n",
        "# Dist 199 contains the distance of 200th nearest neighbour.    \n",
        "    return dists[199]\n",
        "\n",
        "vectors.shape"
      ],
      "metadata": {
        "id": "M3IplXDvR-xW",
        "colab": {
          "base_uri": "https://localhost:8080/"
        },
        "outputId": "3f7188a2-eb83-417e-a293-83ff33eecf82"
      },
      "execution_count": 31,
      "outputs": [
        {
          "output_type": "execute_result",
          "data": {
            "text/plain": [
              "(20000, 100)"
            ]
          },
          "metadata": {},
          "execution_count": 31
        }
      ]
    },
    {
      "cell_type": "code",
      "source": [
        "# Computing the 200th nearest neighbour distance of some point the dataset:\n",
        "twohundrethneigh = []\n",
        "for val in vectors[:1000]:\n",
        "    twohundrethneigh.append( compute200thnearestneighbour(val, vectors[:1000]) )\n",
        "twohundrethneigh.sort()"
      ],
      "metadata": {
        "id": "IDabHRmdR-2a"
      },
      "execution_count": 32,
      "outputs": []
    },
    {
      "cell_type": "code",
      "source": [
        "# Plotting for the Elbow Method :\n",
        "%matplotlib inline\n",
        "from matplotlib import pyplot as plt\n",
        "plt.figure(figsize=(14,4))\n",
        "plt.title(\"Elbow Method for Finding the right Eps hyperparameter\")\n",
        "plt.plot([x for x in range(len(twohundrethneigh))], twohundrethneigh)\n",
        "plt.xlabel(\"Number of points\")\n",
        "plt.ylabel(\"Distance of 200th Nearest Neighbour\")\n",
        "plt.show()"
      ],
      "metadata": {
        "id": "JQC_2qgAR-7W",
        "colab": {
          "base_uri": "https://localhost:8080/",
          "height": 410
        },
        "outputId": "815d0f68-6142-4097-fb48-516c406530cf"
      },
      "execution_count": 33,
      "outputs": [
        {
          "output_type": "display_data",
          "data": {
            "text/plain": [
              "<Figure size 1400x400 with 1 Axes>"
            ],
            "image/png": "[encoded data removed]"
          },
          "metadata": {}
        }
      ]
    },
    {
      "cell_type": "code",
      "source": [
        "# Create the model\n",
        "model_dbs = DBSCAN(eps = 5, min_samples = minPts)\n",
        "model_dbs.fit(vectors)"
      ],
      "metadata": {
        "id": "R3RtNnGrR_AA",
        "colab": {
          "base_uri": "https://localhost:8080/",
          "height": 74
        },
        "outputId": "103047b5-52c8-430e-b32c-431eb746fb84"
      },
      "execution_count": 34,
      "outputs": [
        {
          "output_type": "execute_result",
          "data": {
            "text/plain": [
              "DBSCAN(eps=5, min_samples=200)"
            ],
            "text/html": [
              "<style>#sk-container-id-1 {color: black;background-color: white;}#sk-container-id-1 pre{padding: 0;}#sk-container-id-1 div.sk-toggleable {background-color: white;}#sk-container-id-1 label.sk-toggleable__label {cursor: pointer;display: block;width: 100%;margin-bottom: 0;padding: 0.3em;box-sizing: border-box;text-align: center;}#sk-container-id-1 label.sk-toggleable__label-arrow:before {content: \"▸\";float: left;margin-right: 0.25em;color: #696969;}#sk-container-id-1 label.sk-toggleable__label-arrow:hover:before {color: black;}#sk-container-id-1 div.sk-estimator:hover label.sk-toggleable__label-arrow:before {color: black;}#sk-container-id-1 div.sk-toggleable__content {max-height: 0;max-width: 0;overflow: hidden;text-align: left;background-color: #f0f8ff;}#sk-container-id-1 div.sk-toggleable__content pre {margin: 0.2em;color: black;border-radius: 0.25em;background-color: #f0f8ff;}#sk-container-id-1 input.sk-toggleable__control:checked~div.sk-toggleable__content {max-height: 200px;max-width: 100%;overflow: auto;}#sk-container-id-1 input.sk-toggleable__control:checked~label.sk-toggleable__label-arrow:before {content: \"▾\";}#sk-container-id-1 div.sk-estimator input.sk-toggleable__control:checked~label.sk-toggleable__label {background-color: #d4ebff;}#sk-container-id-1 div.sk-label input.sk-toggleable__control:checked~label.sk-toggleable__label {background-color: #d4ebff;}#sk-container-id-1 input.sk-hidden--visually {border: 0;clip: rect(1px 1px 1px 1px);clip: rect(1px, 1px, 1px, 1px);height: 1px;margin: -1px;overflow: hidden;padding: 0;position: absolute;width: 1px;}#sk-container-id-1 div.sk-estimator {font-family: monospace;background-color: #f0f8ff;border: 1px dotted black;border-radius: 0.25em;box-sizing: border-box;margin-bottom: 0.5em;}#sk-container-id-1 div.sk-estimator:hover {background-color: #d4ebff;}#sk-container-id-1 div.sk-parallel-item::after {content: \"\";width: 100%;border-bottom: 1px solid gray;flex-grow: 1;}#sk-container-id-1 div.sk-label:hover label.sk-toggleable__label {background-color: #d4ebff;}#sk-container-id-1 div.sk-serial::before {content: \"\";position: absolute;border-left: 1px solid gray;box-sizing: border-box;top: 0;bottom: 0;left: 50%;z-index: 0;}#sk-container-id-1 div.sk-serial {display: flex;flex-direction: column;align-items: center;background-color: white;padding-right: 0.2em;padding-left: 0.2em;position: relative;}#sk-container-id-1 div.sk-item {position: relative;z-index: 1;}#sk-container-id-1 div.sk-parallel {display: flex;align-items: stretch;justify-content: center;background-color: white;position: relative;}#sk-container-id-1 div.sk-item::before, #sk-container-id-1 div.sk-parallel-item::before {content: \"\";position: absolute;border-left: 1px solid gray;box-sizing: border-box;top: 0;bottom: 0;left: 50%;z-index: -1;}#sk-container-id-1 div.sk-parallel-item {display: flex;flex-direction: column;z-index: 1;position: relative;background-color: white;}#sk-container-id-1 div.sk-parallel-item:first-child::after {align-self: flex-end;width: 50%;}#sk-container-id-1 div.sk-parallel-item:last-child::after {align-self: flex-start;width: 50%;}#sk-container-id-1 div.sk-parallel-item:only-child::after {width: 0;}#sk-container-id-1 div.sk-dashed-wrapped {border: 1px dashed gray;margin: 0 0.4em 0.5em 0.4em;box-sizing: border-box;padding-bottom: 0.4em;background-color: white;}#sk-container-id-1 div.sk-label label {font-family: monospace;font-weight: bold;display: inline-block;line-height: 1.2em;}#sk-container-id-1 div.sk-label-container {text-align: center;}#sk-container-id-1 div.sk-container {/* jupyter's `normalize.less` sets `[hidden] { display: none; }` but bootstrap.min.css set `[hidden] { display: none !important; }` so we also need the `!important` here to be able to override the default hidden behavior on the sphinx rendered scikit-learn.org. See: https://github.com/scikit-learn/scikit-learn/issues/21755 */display: inline-block !important;position: relative;}#sk-container-id-1 div.sk-text-repr-fallback {display: none;}</style><div id=\"sk-container-id-1\" class=\"sk-top-container\"><div class=\"sk-text-repr-fallback\"><pre>DBSCAN(eps=5, min_samples=200)</pre><b>In a Jupyter environment, please rerun this cell to show the HTML representation or trust the notebook. <br />On GitHub, the HTML representation is unable to render, please try loading this page with nbviewer.org.</b></div><div class=\"sk-container\" hidden><div class=\"sk-item\"><div class=\"sk-estimator sk-toggleable\"><input class=\"sk-toggleable__control sk-hidden--visually\" id=\"sk-estimator-id-1\" type=\"checkbox\" checked><label for=\"sk-estimator-id-1\" class=\"sk-toggleable__label sk-toggleable__label-arrow\">DBSCAN</label><div class=\"sk-toggleable__content\"><pre>DBSCAN(eps=5, min_samples=200)</pre></div></div></div></div></div>"
            ]
          },
          "metadata": {},
          "execution_count": 34
        }
      ]
    },
    {
      "cell_type": "code",
      "source": [
        "df_dbs = df\n",
        "df_dbs[\"DBS Cluster Label\"] = model_dbs.labels_\n",
        "df_dbs"
      ],
      "metadata": {
        "id": "aKEnRcg4R_EH",
        "colab": {
          "base_uri": "https://localhost:8080/",
          "height": 423
        },
        "outputId": "c1dbfb9b-68ab-48cd-8cb1-5d6195780f7a"
      },
      "execution_count": 35,
      "outputs": [
        {
          "output_type": "execute_result",
          "data": {
            "text/plain": [
              "                                             Product Name Brand Name   Price  \\\n",
              "54870   Apple iPhone 6 Plus 128GB Factory Unlocked GSM...        NaN  699.95   \n",
              "188521  HTC Desire 816 Dual Sim Unlocked Smartphone (W...        HTC  221.00   \n",
              "137548      BLU Studio 5.0 C HD Unlocked Cellphone, Black        BLU  173.44   \n",
              "24906                  Apple iPhone 5c 16GB (Pink) - AT&T      Apple  519.00   \n",
              "131601  BLU PURE XL Smartphone - 4G LTE GSM Unlocked -...        BLU  129.99   \n",
              "...                                                   ...        ...     ...   \n",
              "271097  Nokia Lumia 822 GSM Unlocked GSM Windows Phone...      Nokia   88.99   \n",
              "404146  Unlocked Quad-band S29 Smart Watch Phone Micro...        NaN   59.99   \n",
              "358442  Samsung Galaxy S5 SM-G900H Factory Unlocked Ce...    Samsung  339.99   \n",
              "266615  Nokia Lumia 1020 32GB Unlocked GSM Phone w/ 41...      Nokia  296.00   \n",
              "5198       Apple iPhone 3GS 16GB (Black) - AT&T MC135LL/A      Apple   30.99   \n",
              "\n",
              "        Rating                                            Reviews  \\\n",
              "54870        1  defective phone works only for two days phone ...   \n",
              "188521       3                                               cool   \n",
              "137548       5                    beautiful and excellent quality   \n",
              "24906        2  gave stars because it did not come with a char...   \n",
              "131601       1  high resolution camera so you can zoom in afte...   \n",
              "...        ...                                                ...   \n",
              "271097       5  this was a temp cell phone while waiting for m...   \n",
              "404146       5  i don t remember ordering this but it was on m...   \n",
              "358442       5                                                aaa   \n",
              "266615       5                                                 ok   \n",
              "5198         1  my phone worked when i first got it after tryi...   \n",
              "\n",
              "        Review Votes  DBS Cluster Label  \n",
              "54870            5.0                  0  \n",
              "188521           0.0                  0  \n",
              "137548           1.0                  0  \n",
              "24906            0.0                  0  \n",
              "131601           1.0                  0  \n",
              "...              ...                ...  \n",
              "271097           0.0                  0  \n",
              "404146           0.0                  0  \n",
              "358442           0.0                  0  \n",
              "266615           0.0                  0  \n",
              "5198             2.0                  0  \n",
              "\n",
              "[20000 rows x 7 columns]"
            ],
            "text/html": [
              "\n",
              "  <div id=\"df-32846fcc-26c3-466e-812c-7b545a683e8e\">\n",
              "    <div class=\"colab-df-container\">\n",
              "      <div>\n",
              "<style scoped>\n",
              "    .dataframe tbody tr th:only-of-type {\n",
              "        vertical-align: middle;\n",
              "    }\n",
              "\n",
              "    .dataframe tbody tr th {\n",
              "        vertical-align: top;\n",
              "    }\n",
              "\n",
              "    .dataframe thead th {\n",
              "        text-align: right;\n",
              "    }\n",
              "</style>\n",
              "<table border=\"1\" class=\"dataframe\">\n",
              "  <thead>\n",
              "    <tr style=\"text-align: right;\">\n",
              "      <th></th>\n",
              "      <th>Product Name</th>\n",
              "      <th>Brand Name</th>\n",
              "      <th>Price</th>\n",
              "      <th>Rating</th>\n",
              "      <th>Reviews</th>\n",
              "      <th>Review Votes</th>\n",
              "      <th>DBS Cluster Label</th>\n",
              "    </tr>\n",
              "  </thead>\n",
              "  <tbody>\n",
              "    <tr>\n",
              "      <th>54870</th>\n",
              "      <td>Apple iPhone 6 Plus 128GB Factory Unlocked GSM...</td>\n",
              "      <td>NaN</td>\n",
              "      <td>699.95</td>\n",
              "      <td>1</td>\n",
              "      <td>defective phone works only for two days phone ...</td>\n",
              "      <td>5.0</td>\n",
              "      <td>0</td>\n",
              "    </tr>\n",
              "    <tr>\n",
              "      <th>188521</th>\n",
              "      <td>HTC Desire 816 Dual Sim Unlocked Smartphone (W...</td>\n",
              "      <td>HTC</td>\n",
              "      <td>221.00</td>\n",
              "      <td>3</td>\n",
              "      <td>cool</td>\n",
              "      <td>0.0</td>\n",
              "      <td>0</td>\n",
              "    </tr>\n",
              "    <tr>\n",
              "      <th>137548</th>\n",
              "      <td>BLU Studio 5.0 C HD Unlocked Cellphone, Black</td>\n",
              "      <td>BLU</td>\n",
              "      <td>173.44</td>\n",
              "      <td>5</td>\n",
              "      <td>beautiful and excellent quality</td>\n",
              "      <td>1.0</td>\n",
              "      <td>0</td>\n",
              "    </tr>\n",
              "    <tr>\n",
              "      <th>24906</th>\n",
              "      <td>Apple iPhone 5c 16GB (Pink) - AT&amp;T</td>\n",
              "      <td>Apple</td>\n",
              "      <td>519.00</td>\n",
              "      <td>2</td>\n",
              "      <td>gave stars because it did not come with a char...</td>\n",
              "      <td>0.0</td>\n",
              "      <td>0</td>\n",
              "    </tr>\n",
              "    <tr>\n",
              "      <th>131601</th>\n",
              "      <td>BLU PURE XL Smartphone - 4G LTE GSM Unlocked -...</td>\n",
              "      <td>BLU</td>\n",
              "      <td>129.99</td>\n",
              "      <td>1</td>\n",
              "      <td>high resolution camera so you can zoom in afte...</td>\n",
              "      <td>1.0</td>\n",
              "      <td>0</td>\n",
              "    </tr>\n",
              "    <tr>\n",
              "      <th>...</th>\n",
              "      <td>...</td>\n",
              "      <td>...</td>\n",
              "      <td>...</td>\n",
              "      <td>...</td>\n",
              "      <td>...</td>\n",
              "      <td>...</td>\n",
              "      <td>...</td>\n",
              "    </tr>\n",
              "    <tr>\n",
              "      <th>271097</th>\n",
              "      <td>Nokia Lumia 822 GSM Unlocked GSM Windows Phone...</td>\n",
              "      <td>Nokia</td>\n",
              "      <td>88.99</td>\n",
              "      <td>5</td>\n",
              "      <td>this was a temp cell phone while waiting for m...</td>\n",
              "      <td>0.0</td>\n",
              "      <td>0</td>\n",
              "    </tr>\n",
              "    <tr>\n",
              "      <th>404146</th>\n",
              "      <td>Unlocked Quad-band S29 Smart Watch Phone Micro...</td>\n",
              "      <td>NaN</td>\n",
              "      <td>59.99</td>\n",
              "      <td>5</td>\n",
              "      <td>i don t remember ordering this but it was on m...</td>\n",
              "      <td>0.0</td>\n",
              "      <td>0</td>\n",
              "    </tr>\n",
              "    <tr>\n",
              "      <th>358442</th>\n",
              "      <td>Samsung Galaxy S5 SM-G900H Factory Unlocked Ce...</td>\n",
              "      <td>Samsung</td>\n",
              "      <td>339.99</td>\n",
              "      <td>5</td>\n",
              "      <td>aaa</td>\n",
              "      <td>0.0</td>\n",
              "      <td>0</td>\n",
              "    </tr>\n",
              "    <tr>\n",
              "      <th>266615</th>\n",
              "      <td>Nokia Lumia 1020 32GB Unlocked GSM Phone w/ 41...</td>\n",
              "      <td>Nokia</td>\n",
              "      <td>296.00</td>\n",
              "      <td>5</td>\n",
              "      <td>ok</td>\n",
              "      <td>0.0</td>\n",
              "      <td>0</td>\n",
              "    </tr>\n",
              "    <tr>\n",
              "      <th>5198</th>\n",
              "      <td>Apple iPhone 3GS 16GB (Black) - AT&amp;T MC135LL/A</td>\n",
              "      <td>Apple</td>\n",
              "      <td>30.99</td>\n",
              "      <td>1</td>\n",
              "      <td>my phone worked when i first got it after tryi...</td>\n",
              "      <td>2.0</td>\n",
              "      <td>0</td>\n",
              "    </tr>\n",
              "  </tbody>\n",
              "</table>\n",
              "<p>20000 rows × 7 columns</p>\n",
              "</div>\n",
              "      <button class=\"colab-df-convert\" onclick=\"convertToInteractive('df-32846fcc-26c3-466e-812c-7b545a683e8e')\"\n",
              "              title=\"Convert this dataframe to an interactive table.\"\n",
              "              style=\"display:none;\">\n",
              "        \n",
              "  <svg xmlns=\"http://www.w3.org/2000/svg\" height=\"24px\"viewBox=\"0 0 24 24\"\n",
              "       width=\"24px\">\n",
              "    <path d=\"M0 0h24v24H0V0z\" fill=\"none\"/>\n",
              "    <path d=\"M18.56 5.44l.94 2.06.94-2.06 2.06-.94-2.06-.94-.94-2.06-.94 2.06-2.06.94zm-11 1L8.5 8.5l.94-2.06 2.06-.94-2.06-.94L8.5 2.5l-.94 2.06-2.06.94zm10 10l.94 2.06.94-2.06 2.06-.94-2.06-.94-.94-2.06-.94 2.06-2.06.94z\"/><path d=\"M17.41 7.96l-1.37-1.37c-.4-.4-.92-.59-1.43-.59-.52 0-1.04.2-1.43.59L10.3 9.45l-7.72 7.72c-.78.78-.78 2.05 0 2.83L4 21.41c.39.39.9.59 1.41.59.51 0 1.02-.2 1.41-.59l7.78-7.78 2.81-2.81c.8-.78.8-2.07 0-2.86zM5.41 20L4 18.59l7.72-7.72 1.47 1.35L5.41 20z\"/>\n",
              "  </svg>\n",
              "      </button>\n",
              "      \n",
              "  <style>\n",
              "    .colab-df-container {\n",
              "      display:flex;\n",
              "      flex-wrap:wrap;\n",
              "      gap: 12px;\n",
              "    }\n",
              "\n",
              "    .colab-df-convert {\n",
              "      background-color: #E8F0FE;\n",
              "      border: none;\n",
              "      border-radius: 50%;\n",
              "      cursor: pointer;\n",
              "      display: none;\n",
              "      fill: #1967D2;\n",
              "      height: 32px;\n",
              "      padding: 0 0 0 0;\n",
              "      width: 32px;\n",
              "    }\n",
              "\n",
              "    .colab-df-convert:hover {\n",
              "      background-color: #E2EBFA;\n",
              "      box-shadow: 0px 1px 2px rgba(60, 64, 67, 0.3), 0px 1px 3px 1px rgba(60, 64, 67, 0.15);\n",
              "      fill: #174EA6;\n",
              "    }\n",
              "\n",
              "    [theme=dark] .colab-df-convert {\n",
              "      background-color: #3B4455;\n",
              "      fill: #D2E3FC;\n",
              "    }\n",
              "\n",
              "    [theme=dark] .colab-df-convert:hover {\n",
              "      background-color: #434B5C;\n",
              "      box-shadow: 0px 1px 3px 1px rgba(0, 0, 0, 0.15);\n",
              "      filter: drop-shadow(0px 1px 2px rgba(0, 0, 0, 0.3));\n",
              "      fill: #FFFFFF;\n",
              "    }\n",
              "  </style>\n",
              "\n",
              "      <script>\n",
              "        const buttonEl =\n",
              "          document.querySelector('#df-32846fcc-26c3-466e-812c-7b545a683e8e button.colab-df-convert');\n",
              "        buttonEl.style.display =\n",
              "          google.colab.kernel.accessAllowed ? 'block' : 'none';\n",
              "\n",
              "        async function convertToInteractive(key) {\n",
              "          const element = document.querySelector('#df-32846fcc-26c3-466e-812c-7b545a683e8e');\n",
              "          const dataTable =\n",
              "            await google.colab.kernel.invokeFunction('convertToInteractive',\n",
              "                                                     [key], {});\n",
              "          if (!dataTable) return;\n",
              "\n",
              "          const docLinkHtml = 'Like what you see? Visit the ' +\n",
              "            '<a target=\"_blank\" href=https://colab.research.google.com/notebooks/data_table.ipynb>data table notebook</a>'\n",
              "            + ' to learn more about interactive tables.';\n",
              "          element.innerHTML = '';\n",
              "          dataTable['output_type'] = 'display_data';\n",
              "          await google.colab.output.renderOutput(dataTable, element);\n",
              "          const docLink = document.createElement('div');\n",
              "          docLink.innerHTML = docLinkHtml;\n",
              "          element.appendChild(docLink);\n",
              "        }\n",
              "      </script>\n",
              "    </div>\n",
              "  </div>\n",
              "  "
            ]
          },
          "metadata": {},
          "execution_count": 35
        }
      ]
    },
    {
      "cell_type": "markdown",
      "source": [
        "Hierarchical clustering"
      ],
      "metadata": {
        "id": "muYqcmzjYyLy"
      }
    },
    {
      "cell_type": "code",
      "source": [
        "import scipy\n",
        "from scipy.cluster import hierarchy\n",
        "dendro=hierarchy.dendrogram(hierarchy.linkage(vectors,method='ward'))\n",
        "plt.axhline(y=20)"
      ],
      "metadata": {
        "colab": {
          "base_uri": "https://localhost:8080/",
          "height": 455
        },
        "id": "IS3ocyx4YvJ7",
        "outputId": "90359661-14a4-4cfe-fcae-661db7952ee0"
      },
      "execution_count": 36,
      "outputs": [
        {
          "output_type": "execute_result",
          "data": {
            "text/plain": [
              "<matplotlib.lines.Line2D at 0x7fdd1bf54ee0>"
            ]
          },
          "metadata": {},
          "execution_count": 36
        },
        {
          "output_type": "display_data",
          "data": {
            "text/plain": [
              "<Figure size 640x480 with 1 Axes>"
            ],
            "image/png": "[encoded data removed]"
          },
          "metadata": {}
        }
      ]
    },
    {
      "cell_type": "code",
      "source": [
        "from sklearn.cluster import AgglomerativeClustering\n",
        "\n",
        "cluster = AgglomerativeClustering(n_clusters=3, affinity='euclidean', linkage='ward')  #took n=3 from dendrogram curve \n",
        "Agg=cluster.fit_predict(vectors)"
      ],
      "metadata": {
        "colab": {
          "base_uri": "https://localhost:8080/"
        },
        "id": "SoEYQ5s8YvnA",
        "outputId": "880d9f04-9d96-401c-d382-bc1d52821944"
      },
      "execution_count": 37,
      "outputs": [
        {
          "output_type": "stream",
          "name": "stderr",
          "text": [
            "/usr/local/lib/python3.9/dist-packages/sklearn/cluster/_agglomerative.py:983: FutureWarning: Attribute `affinity` was deprecated in version 1.2 and will be removed in 1.4. Use `metric` instead\n",
            "  warnings.warn(\n"
          ]
        }
      ]
    },
    {
      "cell_type": "code",
      "source": [
        "df['AVG-W2V Clus Label'] = cluster.labels_\n",
        "df.head()"
      ],
      "metadata": {
        "colab": {
          "base_uri": "https://localhost:8080/",
          "height": 206
        },
        "id": "fA3Fdq8KY61n",
        "outputId": "6ead1d78-f0fc-4955-fc8d-22cd2f278eb0"
      },
      "execution_count": 38,
      "outputs": [
        {
          "output_type": "execute_result",
          "data": {
            "text/plain": [
              "                                             Product Name Brand Name   Price  \\\n",
              "54870   Apple iPhone 6 Plus 128GB Factory Unlocked GSM...        NaN  699.95   \n",
              "188521  HTC Desire 816 Dual Sim Unlocked Smartphone (W...        HTC  221.00   \n",
              "137548      BLU Studio 5.0 C HD Unlocked Cellphone, Black        BLU  173.44   \n",
              "24906                  Apple iPhone 5c 16GB (Pink) - AT&T      Apple  519.00   \n",
              "131601  BLU PURE XL Smartphone - 4G LTE GSM Unlocked -...        BLU  129.99   \n",
              "\n",
              "        Rating                                            Reviews  \\\n",
              "54870        1  defective phone works only for two days phone ...   \n",
              "188521       3                                               cool   \n",
              "137548       5                    beautiful and excellent quality   \n",
              "24906        2  gave stars because it did not come with a char...   \n",
              "131601       1  high resolution camera so you can zoom in afte...   \n",
              "\n",
              "        Review Votes  DBS Cluster Label  AVG-W2V Clus Label  \n",
              "54870            5.0                  0                   1  \n",
              "188521           0.0                  0                   0  \n",
              "137548           1.0                  0                   0  \n",
              "24906            0.0                  0                   1  \n",
              "131601           1.0                  0                   1  "
            ],
            "text/html": [
              "\n",
              "  <div id=\"df-423f2690-3fb3-4771-970d-21a7aedfe487\">\n",
              "    <div class=\"colab-df-container\">\n",
              "      <div>\n",
              "<style scoped>\n",
              "    .dataframe tbody tr th:only-of-type {\n",
              "        vertical-align: middle;\n",
              "    }\n",
              "\n",
              "    .dataframe tbody tr th {\n",
              "        vertical-align: top;\n",
              "    }\n",
              "\n",
              "    .dataframe thead th {\n",
              "        text-align: right;\n",
              "    }\n",
              "</style>\n",
              "<table border=\"1\" class=\"dataframe\">\n",
              "  <thead>\n",
              "    <tr style=\"text-align: right;\">\n",
              "      <th></th>\n",
              "      <th>Product Name</th>\n",
              "      <th>Brand Name</th>\n",
              "      <th>Price</th>\n",
              "      <th>Rating</th>\n",
              "      <th>Reviews</th>\n",
              "      <th>Review Votes</th>\n",
              "      <th>DBS Cluster Label</th>\n",
              "      <th>AVG-W2V Clus Label</th>\n",
              "    </tr>\n",
              "  </thead>\n",
              "  <tbody>\n",
              "    <tr>\n",
              "      <th>54870</th>\n",
              "      <td>Apple iPhone 6 Plus 128GB Factory Unlocked GSM...</td>\n",
              "      <td>NaN</td>\n",
              "      <td>699.95</td>\n",
              "      <td>1</td>\n",
              "      <td>defective phone works only for two days phone ...</td>\n",
              "      <td>5.0</td>\n",
              "      <td>0</td>\n",
              "      <td>1</td>\n",
              "    </tr>\n",
              "    <tr>\n",
              "      <th>188521</th>\n",
              "      <td>HTC Desire 816 Dual Sim Unlocked Smartphone (W...</td>\n",
              "      <td>HTC</td>\n",
              "      <td>221.00</td>\n",
              "      <td>3</td>\n",
              "      <td>cool</td>\n",
              "      <td>0.0</td>\n",
              "      <td>0</td>\n",
              "      <td>0</td>\n",
              "    </tr>\n",
              "    <tr>\n",
              "      <th>137548</th>\n",
              "      <td>BLU Studio 5.0 C HD Unlocked Cellphone, Black</td>\n",
              "      <td>BLU</td>\n",
              "      <td>173.44</td>\n",
              "      <td>5</td>\n",
              "      <td>beautiful and excellent quality</td>\n",
              "      <td>1.0</td>\n",
              "      <td>0</td>\n",
              "      <td>0</td>\n",
              "    </tr>\n",
              "    <tr>\n",
              "      <th>24906</th>\n",
              "      <td>Apple iPhone 5c 16GB (Pink) - AT&amp;T</td>\n",
              "      <td>Apple</td>\n",
              "      <td>519.00</td>\n",
              "      <td>2</td>\n",
              "      <td>gave stars because it did not come with a char...</td>\n",
              "      <td>0.0</td>\n",
              "      <td>0</td>\n",
              "      <td>1</td>\n",
              "    </tr>\n",
              "    <tr>\n",
              "      <th>131601</th>\n",
              "      <td>BLU PURE XL Smartphone - 4G LTE GSM Unlocked -...</td>\n",
              "      <td>BLU</td>\n",
              "      <td>129.99</td>\n",
              "      <td>1</td>\n",
              "      <td>high resolution camera so you can zoom in afte...</td>\n",
              "      <td>1.0</td>\n",
              "      <td>0</td>\n",
              "      <td>1</td>\n",
              "    </tr>\n",
              "  </tbody>\n",
              "</table>\n",
              "</div>\n",
              "      <button class=\"colab-df-convert\" onclick=\"convertToInteractive('df-423f2690-3fb3-4771-970d-21a7aedfe487')\"\n",
              "              title=\"Convert this dataframe to an interactive table.\"\n",
              "              style=\"display:none;\">\n",
              "        \n",
              "  <svg xmlns=\"http://www.w3.org/2000/svg\" height=\"24px\"viewBox=\"0 0 24 24\"\n",
              "       width=\"24px\">\n",
              "    <path d=\"M0 0h24v24H0V0z\" fill=\"none\"/>\n",
              "    <path d=\"M18.56 5.44l.94 2.06.94-2.06 2.06-.94-2.06-.94-.94-2.06-.94 2.06-2.06.94zm-11 1L8.5 8.5l.94-2.06 2.06-.94-2.06-.94L8.5 2.5l-.94 2.06-2.06.94zm10 10l.94 2.06.94-2.06 2.06-.94-2.06-.94-.94-2.06-.94 2.06-2.06.94z\"/><path d=\"M17.41 7.96l-1.37-1.37c-.4-.4-.92-.59-1.43-.59-.52 0-1.04.2-1.43.59L10.3 9.45l-7.72 7.72c-.78.78-.78 2.05 0 2.83L4 21.41c.39.39.9.59 1.41.59.51 0 1.02-.2 1.41-.59l7.78-7.78 2.81-2.81c.8-.78.8-2.07 0-2.86zM5.41 20L4 18.59l7.72-7.72 1.47 1.35L5.41 20z\"/>\n",
              "  </svg>\n",
              "      </button>\n",
              "      \n",
              "  <style>\n",
              "    .colab-df-container {\n",
              "      display:flex;\n",
              "      flex-wrap:wrap;\n",
              "      gap: 12px;\n",
              "    }\n",
              "\n",
              "    .colab-df-convert {\n",
              "      background-color: #E8F0FE;\n",
              "      border: none;\n",
              "      border-radius: 50%;\n",
              "      cursor: pointer;\n",
              "      display: none;\n",
              "      fill: #1967D2;\n",
              "      height: 32px;\n",
              "      padding: 0 0 0 0;\n",
              "      width: 32px;\n",
              "    }\n",
              "\n",
              "    .colab-df-convert:hover {\n",
              "      background-color: #E2EBFA;\n",
              "      box-shadow: 0px 1px 2px rgba(60, 64, 67, 0.3), 0px 1px 3px 1px rgba(60, 64, 67, 0.15);\n",
              "      fill: #174EA6;\n",
              "    }\n",
              "\n",
              "    [theme=dark] .colab-df-convert {\n",
              "      background-color: #3B4455;\n",
              "      fill: #D2E3FC;\n",
              "    }\n",
              "\n",
              "    [theme=dark] .colab-df-convert:hover {\n",
              "      background-color: #434B5C;\n",
              "      box-shadow: 0px 1px 3px 1px rgba(0, 0, 0, 0.15);\n",
              "      filter: drop-shadow(0px 1px 2px rgba(0, 0, 0, 0.3));\n",
              "      fill: #FFFFFF;\n",
              "    }\n",
              "  </style>\n",
              "\n",
              "      <script>\n",
              "        const buttonEl =\n",
              "          document.querySelector('#df-423f2690-3fb3-4771-970d-21a7aedfe487 button.colab-df-convert');\n",
              "        buttonEl.style.display =\n",
              "          google.colab.kernel.accessAllowed ? 'block' : 'none';\n",
              "\n",
              "        async function convertToInteractive(key) {\n",
              "          const element = document.querySelector('#df-423f2690-3fb3-4771-970d-21a7aedfe487');\n",
              "          const dataTable =\n",
              "            await google.colab.kernel.invokeFunction('convertToInteractive',\n",
              "                                                     [key], {});\n",
              "          if (!dataTable) return;\n",
              "\n",
              "          const docLinkHtml = 'Like what you see? Visit the ' +\n",
              "            '<a target=\"_blank\" href=https://colab.research.google.com/notebooks/data_table.ipynb>data table notebook</a>'\n",
              "            + ' to learn more about interactive tables.';\n",
              "          element.innerHTML = '';\n",
              "          dataTable['output_type'] = 'display_data';\n",
              "          await google.colab.output.renderOutput(dataTable, element);\n",
              "          const docLink = document.createElement('div');\n",
              "          docLink.innerHTML = docLinkHtml;\n",
              "          element.appendChild(docLink);\n",
              "        }\n",
              "      </script>\n",
              "    </div>\n",
              "  </div>\n",
              "  "
            ]
          },
          "metadata": {},
          "execution_count": 38
        }
      ]
    },
    {
      "cell_type": "code",
      "source": [
        "hier_df = df # Give the labels and group to count the number of data in each clusters.\n",
        "hier_df[\"Hierarchial Cluster Labels\"] = cluster.labels_\n",
        "hier_df.groupby([\"Hierarchial Cluster Labels\"])[\"Reviews\"].count()"
      ],
      "metadata": {
        "colab": {
          "base_uri": "https://localhost:8080/"
        },
        "id": "2ClyRdAZY7AW",
        "outputId": "9568acc7-7c72-4d01-eb6a-b01b60f97d22"
      },
      "execution_count": 39,
      "outputs": [
        {
          "output_type": "execute_result",
          "data": {
            "text/plain": [
              "Hierarchial Cluster Labels\n",
              "0     5041\n",
              "1    14238\n",
              "2      716\n",
              "Name: Reviews, dtype: int64"
            ]
          },
          "metadata": {},
          "execution_count": 39
        }
      ]
    },
    {
      "cell_type": "code",
      "source": [],
      "metadata": {
        "id": "4Gh6Sdn7Y7T3"
      },
      "execution_count": null,
      "outputs": []
    },
    {
      "cell_type": "code",
      "source": [],
      "metadata": {
        "id": "lWFqWZKbY7cD"
      },
      "execution_count": null,
      "outputs": []
    },
    {
      "cell_type": "markdown",
      "metadata": {
        "id": "M5skF_D5yAvb"
      },
      "source": [
        "In one paragraph, please compare the results of K-means, DBSCAN, Hierarchical clustering, Word2Vec, and BERT."
      ]
    },
    {
      "cell_type": "code",
      "source": [],
      "metadata": {
        "id": "d73kBuwYYt6y"
      },
      "execution_count": null,
      "outputs": []
    },
    {
      "cell_type": "code",
      "execution_count": null,
      "metadata": {
        "id": "JMrJZZOAyAvb"
      },
      "outputs": [],
      "source": [
        "#You can write you answer here. (No code needed)\n",
        "\n",
        "\n"
      ]
    }
  ],
  "metadata": {
    "kernelspec": {
      "display_name": "Python 3 (ipykernel)",
      "language": "python",
      "name": "python3"
    },
    "language_info": {
      "codemirror_mode": {
        "name": "ipython",
        "version": 3
      },
      "file_extension": ".py",
      "mimetype": "text/x-python",
      "name": "python",
      "nbconvert_exporter": "python",
      "pygments_lexer": "ipython3",
      "version": "3.9.12"
    },
    "colab": {
      "provenance": [],
      "include_colab_link": true
    },
    "accelerator": "GPU",
    "gpuClass": "standard"
  },
  "nbformat": 4,
  "nbformat_minor": 0
}