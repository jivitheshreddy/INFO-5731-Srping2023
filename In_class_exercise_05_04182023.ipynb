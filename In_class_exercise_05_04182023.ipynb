{
  "cells": [
    {
      "cell_type": "markdown",
      "metadata": {
        "id": "view-in-github",
        "colab_type": "text"
      },
      "source": [
        "<a href=\"https://colab.research.google.com/github/jivitheshreddy/INFO-5731-Srping2023/blob/main/In_class_exercise_05_04182023.ipynb\" target=\"_parent\"><img src=\"https://colab.research.google.com/assets/colab-badge.svg\" alt=\"Open In Colab\"/></a>"
      ]
    },
    {
      "cell_type": "markdown",
      "metadata": {
        "id": "DRT5QqpzyAvX"
      },
      "source": [
        "# **The fifth in-class-exercise (40 points in total, 4/18/2023)**"
      ]
    },
    {
      "cell_type": "markdown",
      "metadata": {
        "id": "LyQbuL1RyAvZ"
      },
      "source": [
        "(20 points) The purpose of the question is to practice different machine learning algorithms for text classification as well as the performance evaluation. In addition, you are requried to conduct *10 fold cross validation (https://scikit-learn.org/stable/modules/cross_validation.html)* in the training. \n",
        "\n",
        "The dataset can be download from canvas. The dataset contains two files train data and train data for sentiment analysis in IMDB review, it has two categories: 1 represents positive and 0 represents negative. You need to split the training data into training and validate data (80% for training and 20% for validation, https://towardsdatascience.com/train-test-split-and-cross-validation-in-python-80b61beca4b6) and perform 10 fold cross validation while training the classifier. The final trained model was final evaluated on the test data. \n",
        "\n",
        "Algorithms:\n",
        "\n",
        "(1) MultinominalNB\n",
        "\n",
        "(2) SVM \n",
        "\n",
        "(3) KNN \n",
        "\n",
        "(4) Decision tree\n",
        "\n",
        "(5) Random Forest\n",
        "\n",
        "(6) XGBoost\n",
        "\n",
        "(7) Word2Vec\n",
        "\n",
        "(8) BERT\n",
        "\n",
        "Evaluation measurement:\n",
        "\n",
        "(1) Accuracy\n",
        "\n",
        "(2) Recall\n",
        "\n",
        "(3) Precison \n",
        "\n",
        "(4) F-1 score"
      ]
    },
    {
      "cell_type": "markdown",
      "source": [
        "(1) MultinominalNB"
      ],
      "metadata": {
        "id": "GNA-2u0UqM1N"
      }
    },
    {
      "cell_type": "code",
      "source": [
        "import pandas as pd\n",
        "from sklearn.feature_extraction.text import TfidfVectorizer \n",
        "from sklearn.naive_bayes import MultinomialNB\n",
        "from sklearn.metrics import precision_score, recall_score, f1_score, accuracy_score\n",
        "from sklearn.model_selection import train_test_split\n",
        "\n",
        "# Load the training dataset\n",
        "with open(\"stsa-train.txt\") as f:\n",
        "    data_train = [line.strip().split(\" \", 1) for line in f]\n",
        "\n",
        "df_train = pd.DataFrame(data_train, columns=[\"label\", \"text\"])\n",
        "df_train[\"label\"] = df_train[\"label\"].astype(int)\n",
        "\n",
        "# Load the test dataset\n",
        "with open(\"stsa-test.txt\") as f:\n",
        "    data_test = [line.strip().split(\" \", 1) for line in f]\n",
        "\n",
        "df_test = pd.DataFrame(data_test, columns=[\"label\", \"text\"])\n",
        "df_test[\"label\"] = df_test[\"label\"].astype(int)\n",
        "\n",
        "# Convert text to features using TF-IDF vectorization\n",
        "vectorizer = TfidfVectorizer(lowercase=False)\n",
        "X_train = vectorizer.fit_transform(df_train[\"text\"]).toarray()\n",
        "X_test = vectorizer.transform(df_test[\"text\"]).toarray()\n",
        "y_train = df_train[\"label\"].values\n",
        "y_test = df_test[\"label\"].values\n",
        "\n",
        "# Split the training dataset into training and validation sets\n",
        "X_train, X_valid, y_train, y_valid = train_test_split(X_train, y_train, test_size=0.2, random_state=202)\n",
        "\n",
        "# Train the model\n",
        "clf = MultinomialNB()\n",
        "clf.fit(X_train, y_train)\n",
        "\n",
        "# Make predictions on the validation set\n",
        "y_pred_valid = clf.predict(X_valid)\n",
        "\n",
        "# Calculate evaluation metrics on the validation set\n",
        "acc = accuracy_score(y_valid, y_pred_valid)\n",
        "precision = precision_score(y_valid, y_pred_valid, pos_label=0)\n",
        "recall = recall_score(y_valid, y_pred_valid, pos_label=0)\n",
        "f1 = f1_score(y_valid, y_pred_valid, pos_label=0)\n",
        "\n",
        "print(f\"Accuracy on validation set: {round(acc * 100, 2)}%\")\n",
        "print(f\"Precision on validation set: {round(precision * 100, 2)}%\")\n",
        "print(f\"Recall on validation set: {round(recall * 100, 2)}%\")\n",
        "print(f\"F1 score on validation set: {round(f1 * 100, 2)}%\")\n",
        "\n",
        "# Make predictions on the test set\n",
        "y_pred_test = clf.predict(X_test)\n",
        "\n",
        "# Calculate evaluation metrics on the test set\n",
        "acc = accuracy_score(y_test, y_pred_test)\n",
        "precision = precision_score(y_test, y_pred_test, pos_label=0)\n",
        "recall = recall_score(y_test, y_pred_test, pos_label=0)\n",
        "f1 = f1_score(y_test, y_pred_test, pos_label=0)\n",
        "\n",
        "print(f\"Accuracy on test set: {round(acc * 100, 2)}%\")\n",
        "print(f\"Precision on test set: {round(precision * 100, 2)}%\")\n",
        "print(f\"Recall on test set: {round(recall * 100, 2)}%\")\n",
        "print(f\"F1 score on test set: {round(f1 * 100, 2)}%\")\n"
      ],
      "metadata": {
        "id": "uO0jJa6I1Yt-",
        "colab": {
          "base_uri": "https://localhost:8080/"
        },
        "outputId": "b6d21815-aa28-4b2f-f0bd-12e89bd1d051"
      },
      "execution_count": 9,
      "outputs": [
        {
          "output_type": "stream",
          "name": "stdout",
          "text": [
            "Accuracy on validation set: 78.9%\n",
            "Precision on validation set: 81.94%\n",
            "Recall on validation set: 72.11%\n",
            "F1 score on validation set: 76.71%\n",
            "Accuracy on test set: 80.45%\n",
            "Precision on test set: 85.37%\n",
            "Recall on test set: 73.57%\n",
            "F1 score on test set: 79.03%\n"
          ]
        }
      ]
    },
    {
      "cell_type": "markdown",
      "source": [],
      "metadata": {
        "id": "ROIFeociqLaa"
      }
    },
    {
      "cell_type": "code",
      "source": [
        "from sklearn.model_selection import cross_val_score\n",
        "from sklearn.metrics import classification_report\n",
        "\n",
        "\n",
        "naive_accuracies_validation = cross_val_score(estimator=classifier, X=x_train, y=y_train, cv=10)\n",
        "print(f\"Naive Bayes Model 10-fold cross validation score on training set is: {round(naive_accuracies_validation.mean()*100)}%\")\n",
        "\n",
        "predictions_test_set = classifier.predict(x_test) \n",
        "print(\"Accuracy of the Naive Bayes model on test set is: \", round(accuracy_score(y_test, predictions_test_set)*100), \"%\")\n",
        "print(\"Precision of the Naive Bayes model on test set is: \", round(precision_score(y_test, predictions_test_set, pos_label=0)*100), \"%\")\n",
        "print(\"Recall of the Naive Bayes model on test set is: \", round(recall_score(y_test, predictions_test_set, pos_label=0)*100), \"%\")\n",
        "print(\"F1 Score of the Naive Bayes model on test set is: \", round(f1_score(y_test, predictions_test_set, pos_label=0)*100), \"%\")\n",
        "\n",
        "cr_naive_test = classification_report(y_test, predictions_test_set)\n",
        "print(\"Classification Report: \\n\", cr_naive_test)\n",
        "\n",
        "naive_accuracies_test = cross_val_score(estimator=classifier, X=x_test, y=y_test, cv=10)\n",
        "print(f\"Naive Bayes Model 10-fold cross validation score on testing set is: {round(naive_accuracies_test.mean()*100)}%\")\n",
        "\n"
      ],
      "metadata": {
        "colab": {
          "base_uri": "https://localhost:8080/"
        },
        "id": "Ppgj9Xgnk9zt",
        "outputId": "3865a71c-e014-468e-92c3-134116860aad"
      },
      "execution_count": 15,
      "outputs": [
        {
          "output_type": "stream",
          "name": "stdout",
          "text": [
            "Naive Bayes Model 10-fold cross validation score on training set is: 79%\n",
            "Accuracy of the Naive Bayes model on test set is:  80 %\n",
            "Precision of the Naive Bayes model on test set is:  85 %\n",
            "Recall of the Naive Bayes model on test set is:  74 %\n",
            "F1 Score of the Naive Bayes model on test set is:  79 %\n",
            "Classification Report: \n",
            "               precision    recall  f1-score   support\n",
            "\n",
            "           0       0.85      0.74      0.79       912\n",
            "           1       0.77      0.87      0.82       909\n",
            "\n",
            "    accuracy                           0.80      1821\n",
            "   macro avg       0.81      0.80      0.80      1821\n",
            "weighted avg       0.81      0.80      0.80      1821\n",
            "\n",
            "Naive Bayes Model 10-fold cross validation score on testing set is: 75%\n"
          ]
        }
      ]
    },
    {
      "cell_type": "code",
      "source": [],
      "metadata": {
        "id": "jiybCkZvk93N"
      },
      "execution_count": null,
      "outputs": []
    },
    {
      "cell_type": "markdown",
      "source": [
        "2)SVM"
      ],
      "metadata": {
        "id": "0jVqHsDgrTkm"
      }
    },
    {
      "cell_type": "code",
      "source": [],
      "metadata": {
        "id": "j19Ge0hyk96v"
      },
      "execution_count": null,
      "outputs": []
    },
    {
      "cell_type": "code",
      "source": [
        "# Import necessary libraries\n",
        "from sklearn.svm import SVC\n",
        "from sklearn.metrics import accuracy_score, precision_score, recall_score, f1_score\n",
        "\n",
        "# Train the model\n",
        "clf = SVC(kernel='linear')\n",
        "clf.fit(X_train, y_train)\n",
        "\n",
        "# Make predictions on the validation set\n",
        "y_pred_valid = clf.predict(X_valid)\n",
        "\n",
        "# Calculate evaluation metrics on the validation set\n",
        "acc = accuracy_score(y_valid, y_pred_valid)\n",
        "precision = precision_score(y_valid, y_pred_valid, pos_label=0)\n",
        "recall = recall_score(y_valid, y_pred_valid, pos_label=0)\n",
        "f1 = f1_score(y_valid, y_pred_valid, pos_label=0)\n",
        "\n",
        "print(f\"Accuracy on validation set: {round(acc * 100, 2)}%\")\n",
        "print(f\"Precision on validation set: {round(precision * 100, 2)}%\")\n",
        "print(f\"Recall on validation set: {round(recall * 100, 2)}%\")\n",
        "print(f\"F1 score on validation set: {round(f1 * 100, 2)}%\")\n",
        "\n",
        "# Make predictions on the test set\n",
        "y_pred_test = clf.predict(X_test)\n",
        "\n",
        "# Calculate evaluation metrics on the test set\n",
        "acc = accuracy_score(y_test, y_pred_test)\n",
        "precision = precision_score(y_test, y_pred_test, pos_label=0)\n",
        "recall = recall_score(y_test, y_pred_test, pos_label=0)\n",
        "f1 = f1_score(y_test, y_pred_test, pos_label=0)\n",
        "\n",
        "print(f\"Accuracy on test set: {round(acc * 100, 2)}%\")\n",
        "print(f\"Precision on test set: {round(precision * 100, 2)}%\")\n",
        "print(f\"Recall on test set: {round(recall * 100, 2)}%\")\n",
        "print(f\"F1 score on test set: {round(f1 * 100, 2)}%\")\n"
      ],
      "metadata": {
        "colab": {
          "base_uri": "https://localhost:8080/"
        },
        "id": "UPldzgvVk992",
        "outputId": "58dda180-6a92-43eb-a7f6-39ab24efb6e6"
      },
      "execution_count": 20,
      "outputs": [
        {
          "output_type": "stream",
          "name": "stdout",
          "text": [
            "Accuracy on validation set: 79.55%\n",
            "Precision on validation set: 79.63%\n",
            "Recall on validation set: 77.36%\n",
            "F1 score on validation set: 78.48%\n",
            "Accuracy on test set: 79.96%\n",
            "Precision on test set: 81.26%\n",
            "Recall on test set: 77.96%\n",
            "F1 score on test set: 79.57%\n"
          ]
        }
      ]
    },
    {
      "cell_type": "code",
      "source": [
        "from sklearn.model_selection import cross_val_score\n",
        "from sklearn.metrics import classification_report\n",
        "\n",
        "# Perform 10-fold cross validation on the training set\n",
        "svm_accuracies_validation = cross_val_score(estimator=clf, X=X_train, y=y_train, cv=10)\n",
        "print(f\"SVM 10-fold cross validation score on training set is: {round(svm_accuracies_validation.mean()*100)}%\")\n",
        "\n",
        "# Make predictions on the test set and calculate evaluation metrics\n",
        "y_pred_test = clf.predict(X_test)\n",
        "acc = accuracy_score(y_test, y_pred_test)\n",
        "precision = precision_score(y_test, y_pred_test, pos_label=0)\n",
        "recall = recall_score(y_test, y_pred_test, pos_label=0)\n",
        "f1 = f1_score(y_test, y_pred_test, pos_label=0)\n",
        "\n",
        "# Print evaluation metrics on the test set\n",
        "print(\"Accuracy of the SVM model on test set is: \", round(acc*100), \"%\")\n",
        "print(\"Precision of the SVM model on test set is: \", round(precision*100), \"%\")\n",
        "print(\"Recall of the SVM model on test set is: \", round(recall*100), \"%\")\n",
        "print(\"F1 Score of the SVM model on test set is: \", round(f1*100), \"%\")\n",
        "\n",
        "# Print classification report on the test set\n",
        "cr_svm_test = classification_report(y_test, y_pred_test)\n",
        "print(\"Classification Report: \\n\", cr_svm_test)\n",
        "\n",
        "# Perform 10-fold cross validation on the test set\n",
        "svm_accuracies_test = cross_val_score(estimator=clf, X=X_test, y=y_test, cv=10)\n",
        "print(f\"SVM 10-fold cross validation score on testing set is: {round(svm_accuracies_test.mean()*100)}%\")\n"
      ],
      "metadata": {
        "colab": {
          "base_uri": "https://localhost:8080/"
        },
        "id": "4m0kjwGhk-BW",
        "outputId": "978a9135-0d96-48eb-9875-569b64175940"
      },
      "execution_count": 21,
      "outputs": [
        {
          "output_type": "stream",
          "name": "stdout",
          "text": [
            "SVM 10-fold cross validation score on training set is: 78%\n",
            "Accuracy of the SVM model on test set is:  80 %\n",
            "Precision of the SVM model on test set is:  81 %\n",
            "Recall of the SVM model on test set is:  78 %\n",
            "F1 Score of the SVM model on test set is:  80 %\n",
            "Classification Report: \n",
            "               precision    recall  f1-score   support\n",
            "\n",
            "           0       0.81      0.78      0.80       912\n",
            "           1       0.79      0.82      0.80       909\n",
            "\n",
            "    accuracy                           0.80      1821\n",
            "   macro avg       0.80      0.80      0.80      1821\n",
            "weighted avg       0.80      0.80      0.80      1821\n",
            "\n",
            "SVM 10-fold cross validation score on testing set is: 73%\n"
          ]
        }
      ]
    },
    {
      "cell_type": "code",
      "source": [],
      "metadata": {
        "id": "Y_FmbfaLk-Er"
      },
      "execution_count": null,
      "outputs": []
    },
    {
      "cell_type": "markdown",
      "source": [
        "3) KNN"
      ],
      "metadata": {
        "id": "L-eYG2ze5vxH"
      }
    },
    {
      "cell_type": "code",
      "source": [
        "# Import necessary libraries\n",
        "from sklearn.neighbors import KNeighborsClassifier\n",
        "from sklearn.metrics import accuracy_score, precision_score, recall_score, f1_score\n",
        "\n",
        "# Train the model\n",
        "clf = KNeighborsClassifier(n_neighbors=5)\n",
        "clf.fit(X_train, y_train)\n",
        "\n",
        "# Make predictions on the validation set\n",
        "y_pred_valid = clf.predict(X_valid)\n",
        "\n",
        "# Calculate evaluation metrics on the validation set\n",
        "acc = accuracy_score(y_valid, y_pred_valid)\n",
        "precision = precision_score(y_valid, y_pred_valid, pos_label=0)\n",
        "recall = recall_score(y_valid, y_pred_valid, pos_label=0)\n",
        "f1 = f1_score(y_valid, y_pred_valid, pos_label=0)\n",
        "\n",
        "print(f\"Accuracy on validation set: {round(acc * 100, 2)}%\")\n",
        "print(f\"Precision on validation set: {round(precision * 100, 2)}%\")\n",
        "print(f\"Recall on validation set: {round(recall * 100, 2)}%\")\n",
        "print(f\"F1 score on validation set: {round(f1 * 100, 2)}%\")\n",
        "\n",
        "# Make predictions on the test set\n",
        "y_pred_test = clf.predict(X_test)\n",
        "\n",
        "# Calculate evaluation metrics on the test set\n",
        "acc = accuracy_score(y_test, y_pred_test)\n",
        "precision = precision_score(y_test, y_pred_test, pos_label=0)\n",
        "recall = recall_score(y_test, y_pred_test, pos_label=0)\n",
        "f1 = f1_score(y_test, y_pred_test, pos_label=0)\n",
        "\n",
        "print(f\"Accuracy on test set: {round(acc * 100, 2)}%\")\n",
        "print(f\"Precision on test set: {round(precision * 100, 2)}%\")\n",
        "print(f\"Recall on test set: {round(recall * 100, 2)}%\")\n",
        "print(f\"F1 score on test set: {round(f1 * 100, 2)}%\")\n"
      ],
      "metadata": {
        "colab": {
          "base_uri": "https://localhost:8080/"
        },
        "id": "0bj9NuKI5tBP",
        "outputId": "3469d43f-fa99-45a2-a72a-c25e74424f9d"
      },
      "execution_count": 22,
      "outputs": [
        {
          "output_type": "stream",
          "name": "stdout",
          "text": [
            "Accuracy on validation set: 74.13%\n",
            "Precision on validation set: 75.2%\n",
            "Recall on validation set: 69.12%\n",
            "F1 score on validation set: 72.03%\n",
            "Accuracy on test set: 73.04%\n",
            "Precision on test set: 76.35%\n",
            "Recall on test set: 66.89%\n",
            "F1 score on test set: 71.3%\n"
          ]
        }
      ]
    },
    {
      "cell_type": "code",
      "source": [
        "from sklearn.model_selection import cross_val_score\n",
        "from sklearn.metrics import classification_report\n",
        "\n",
        "# Perform 10-fold cross validation on the training set\n",
        "knn_accuracies_validation = cross_val_score(estimator=clf, X=X_train, y=y_train, cv=10)\n",
        "print(f\"KNN 10-fold cross validation score on training set is: {round(knn_accuracies_validation.mean()*100)}%\")\n",
        "\n",
        "# Make predictions on the test set and calculate evaluation metrics\n",
        "y_pred_test = clf.predict(X_test)\n",
        "acc = accuracy_score(y_test, y_pred_test)\n",
        "precision = precision_score(y_test, y_pred_test, pos_label=0)\n",
        "recall = recall_score(y_test, y_pred_test, pos_label=0)\n",
        "f1 = f1_score(y_test, y_pred_test, pos_label=0)\n",
        "\n",
        "# Print evaluation metrics on the test set\n",
        "print(\"Accuracy of the KNN model on test set is: \", round(acc*100), \"%\")\n",
        "print(\"Precision of the KNN model on test set is: \", round(precision*100), \"%\")\n",
        "print(\"Recall of the KNN model on test set is: \", round(recall*100), \"%\")\n",
        "print(\"F1 Score of the KNN model on test set is: \", round(f1*100), \"%\")\n",
        "\n",
        "# Print classification report on the test set\n",
        "cr_knn_test = classification_report(y_test, y_pred_test)\n",
        "print(\"Classification Report: \\n\", cr_knn_test)\n",
        "\n",
        "# Perform 10-fold cross validation on the test set\n",
        "knn_accuracies_test = cross_val_score(estimator=clf, X=X_test, y=y_test, cv=10)\n",
        "print(f\"KNN 10-fold cross validation score on testing set is: {round(knn_accuracies_test.mean()*100)}%\")\n"
      ],
      "metadata": {
        "colab": {
          "base_uri": "https://localhost:8080/"
        },
        "id": "wROX2DnA5tQ3",
        "outputId": "d01173e3-06c2-47da-f301-92723bc31f13"
      },
      "execution_count": 23,
      "outputs": [
        {
          "output_type": "stream",
          "name": "stdout",
          "text": [
            "KNN 10-fold cross validation score on training set is: 71%\n",
            "Accuracy of the KNN model on test set is:  73 %\n",
            "Precision of the KNN model on test set is:  76 %\n",
            "Recall of the KNN model on test set is:  67 %\n",
            "F1 Score of the KNN model on test set is:  71 %\n",
            "Classification Report: \n",
            "               precision    recall  f1-score   support\n",
            "\n",
            "           0       0.76      0.67      0.71       912\n",
            "           1       0.70      0.79      0.75       909\n",
            "\n",
            "    accuracy                           0.73      1821\n",
            "   macro avg       0.73      0.73      0.73      1821\n",
            "weighted avg       0.73      0.73      0.73      1821\n",
            "\n",
            "KNN 10-fold cross validation score on testing set is: 67%\n"
          ]
        }
      ]
    },
    {
      "cell_type": "code",
      "source": [],
      "metadata": {
        "id": "V8oIyxns5tgp"
      },
      "execution_count": null,
      "outputs": []
    },
    {
      "cell_type": "markdown",
      "source": [
        "4)Decison Tree"
      ],
      "metadata": {
        "id": "iOp4TeYt6kDC"
      }
    },
    {
      "cell_type": "code",
      "source": [
        "# Import necessary libraries\n",
        "from sklearn.tree import DecisionTreeClassifier\n",
        "from sklearn.metrics import accuracy_score, precision_score, recall_score, f1_score, classification_report\n",
        "from sklearn.model_selection import cross_val_score\n",
        "\n",
        "# Train the model\n",
        "clf = DecisionTreeClassifier()\n",
        "clf.fit(X_train, y_train)\n",
        "\n",
        "# Make predictions on the validation set\n",
        "y_pred_valid = clf.predict(X_valid)\n",
        "\n",
        "# Calculate evaluation metrics on the validation set\n",
        "acc = accuracy_score(y_valid, y_pred_valid)\n",
        "precision = precision_score(y_valid, y_pred_valid, pos_label=0)\n",
        "recall = recall_score(y_valid, y_pred_valid, pos_label=0)\n",
        "f1 = f1_score(y_valid, y_pred_valid, pos_label=0)\n",
        "\n",
        "print(f\"Accuracy on validation set: {round(acc * 100, 2)}%\")\n",
        "print(f\"Precision on validation set: {round(precision * 100, 2)}%\")\n",
        "print(f\"Recall on validation set: {round(recall * 100, 2)}%\")\n",
        "print(f\"F1 score on validation set: {round(f1 * 100, 2)}%\")\n",
        "\n",
        "# Make predictions on the test set\n",
        "y_pred_test = clf.predict(X_test)\n",
        "\n",
        "# Calculate evaluation metrics on the test set\n",
        "acc = accuracy_score(y_test, y_pred_test)\n",
        "precision = precision_score(y_test, y_pred_test, pos_label=0)\n",
        "recall = recall_score(y_test, y_pred_test, pos_label=0)\n",
        "f1 = f1_score(y_test, y_pred_test, pos_label=0)\n",
        "\n",
        "print(f\"Accuracy on test set: {round(acc * 100, 2)}%\")\n",
        "print(f\"Precision on test set: {round(precision * 100, 2)}%\")\n",
        "print(f\"Recall on test set: {round(recall * 100, 2)}%\")\n",
        "print(f\"F1 score on test set: {round(f1 * 100, 2)}%\")\n",
        "\n",
        "# Perform 10-fold cross validation on the training set\n",
        "dt_accuracies_validation = cross_val_score(estimator=clf, X=X_train, y=y_train, cv=10)\n",
        "print(f\"Decision Tree 10-fold cross validation score on training set is: {round(dt_accuracies_validation.mean()*100)}%\")\n",
        "\n",
        "# Make predictions on the test set and calculate evaluation metrics\n",
        "y_pred_test = clf.predict(X_test)\n",
        "acc = accuracy_score(y_test, y_pred_test)\n",
        "precision = precision_score(y_test, y_pred_test, pos_label=0)\n",
        "recall = recall_score(y_test, y_pred_test, pos_label=0)\n",
        "f1 = f1_score(y_test, y_pred_test, pos_label=0)\n",
        "\n",
        "# Print evaluation metrics on the test set\n",
        "print(\"Accuracy of the Decision Tree model on test set is: \", round(acc*100), \"%\")\n",
        "print(\"Precision of the Decision Tree model on test set is: \", round(precision*100), \"%\")\n",
        "print(\"Recall of the Decision Tree model on test set is: \", round(recall*100), \"%\")\n",
        "print(\"F1 Score of the Decision Tree model on test set is: \", round(f1*100), \"%\")\n",
        "\n",
        "# Print classification report on the test set\n",
        "cr_dt_test = classification_report(y_test, y_pred_test)\n",
        "print(\"Classification Report: \\n\", cr_dt_test)\n",
        "\n",
        "# Perform 10-fold cross validation on the test set\n",
        "dt_accuracies_test = cross_val_score(estimator=clf, X=X_test, y=y_test, cv=10)\n",
        "print(f\"Decision Tree 10-fold cross validation score on testing set is: {round(dt_accuracies_test.mean()*100)}%\")\n"
      ],
      "metadata": {
        "colab": {
          "base_uri": "https://localhost:8080/"
        },
        "id": "PdHXXQIh5tws",
        "outputId": "bb25f621-a2ac-4349-c77c-8d18b060f7e9"
      },
      "execution_count": 24,
      "outputs": [
        {
          "output_type": "stream",
          "name": "stdout",
          "text": [
            "Accuracy on validation set: 61.56%\n",
            "Precision on validation set: 60.15%\n",
            "Recall on validation set: 59.97%\n",
            "F1 score on validation set: 60.06%\n",
            "Accuracy on test set: 62.82%\n",
            "Precision on test set: 63.91%\n",
            "Recall on test set: 59.21%\n",
            "F1 score on test set: 61.47%\n",
            "Decision Tree 10-fold cross validation score on training set is: 61%\n",
            "Accuracy of the Decision Tree model on test set is:  63 %\n",
            "Precision of the Decision Tree model on test set is:  64 %\n",
            "Recall of the Decision Tree model on test set is:  59 %\n",
            "F1 Score of the Decision Tree model on test set is:  61 %\n",
            "Classification Report: \n",
            "               precision    recall  f1-score   support\n",
            "\n",
            "           0       0.64      0.59      0.61       912\n",
            "           1       0.62      0.66      0.64       909\n",
            "\n",
            "    accuracy                           0.63      1821\n",
            "   macro avg       0.63      0.63      0.63      1821\n",
            "weighted avg       0.63      0.63      0.63      1821\n",
            "\n",
            "Decision Tree 10-fold cross validation score on testing set is: 60%\n"
          ]
        }
      ]
    },
    {
      "cell_type": "code",
      "source": [],
      "metadata": {
        "id": "kFFDjFrj5uBE"
      },
      "execution_count": null,
      "outputs": []
    },
    {
      "cell_type": "markdown",
      "source": [
        "5)Random Forest"
      ],
      "metadata": {
        "id": "A1vEVga4-O_R"
      }
    },
    {
      "cell_type": "code",
      "source": [
        "from sklearn.ensemble import RandomForestClassifier\n",
        "from sklearn.metrics import accuracy_score, precision_score, recall_score, f1_score, classification_report\n",
        "from sklearn.model_selection import cross_val_score\n",
        "\n",
        "# Train the random forest classifier\n",
        "rf = RandomForestClassifier(n_estimators=100, random_state=42)\n",
        "rf.fit(X_train, y_train)\n",
        "\n",
        "# Make predictions on the validation set\n",
        "y_pred_valid = rf.predict(X_valid)\n",
        "\n",
        "# Calculate evaluation metrics on the validation set\n",
        "acc = accuracy_score(y_valid, y_pred_valid)\n",
        "precision = precision_score(y_valid, y_pred_valid, pos_label=0)\n",
        "recall = recall_score(y_valid, y_pred_valid, pos_label=0)\n",
        "f1 = f1_score(y_valid, y_pred_valid, pos_label=0)\n",
        "\n",
        "print(f\"Accuracy on validation set: {round(acc * 100, 2)}%\")\n",
        "print(f\"Precision on validation set: {round(precision * 100, 2)}%\")\n",
        "print(f\"Recall on validation set: {round(recall * 100, 2)}%\")\n",
        "print(f\"F1 score on validation set: {round(f1 * 100, 2)}%\")\n",
        "\n",
        "# Make predictions on the test set\n",
        "y_pred_test = rf.predict(X_test)\n",
        "\n",
        "# Calculate evaluation metrics on the test set\n",
        "acc = accuracy_score(y_test, y_pred_test)\n",
        "precision = precision_score(y_test, y_pred_test, pos_label=0)\n",
        "recall = recall_score(y_test, y_pred_test, pos_label=0)\n",
        "f1 = f1_score(y_test, y_pred_test, pos_label=0)\n",
        "\n",
        "print(f\"Accuracy on test set: {round(acc * 100, 2)}%\")\n",
        "print(f\"Precision on test set: {round(precision * 100, 2)}%\")\n",
        "print(f\"Recall on test set: {round(recall * 100, 2)}%\")\n",
        "print(f\"F1 score on test set: {round(f1 * 100, 2)}%\")\n",
        "\n",
        "# Perform 10-fold cross validation on the training set\n",
        "rf_accuracies_validation = cross_val_score(estimator=rf, X=X_train, y=y_train, cv=10)\n",
        "print(f\"Random Forest 10-fold cross validation score on training set is: {round(rf_accuracies_validation.mean()*100)}%\")\n",
        "\n",
        "# Print classification report on the test set\n",
        "cr_rf_test = classification_report(y_test, y_pred_test)\n",
        "print(\"Classification Report: \\n\", cr_rf_test)\n",
        "\n",
        "# Perform 10-fold cross validation on the test set\n",
        "rf_accuracies_test = cross_val_score(estimator=rf, X=X_test, y=y_test, cv=10)\n",
        "print(f\"Random Forest 10-fold cross validation score on testing set is: {round(rf_accuracies_test.mean()*100)}%\")\n"
      ],
      "metadata": {
        "colab": {
          "base_uri": "https://localhost:8080/"
        },
        "id": "Mtw8C5VB-QDD",
        "outputId": "3d85d4bc-fe36-46b1-a2ba-4110b1fa2bdf"
      },
      "execution_count": 25,
      "outputs": [
        {
          "output_type": "stream",
          "name": "stdout",
          "text": [
            "Accuracy on validation set: 71.6%\n",
            "Precision on validation set: 72.46%\n",
            "Recall on validation set: 66.27%\n",
            "F1 score on validation set: 69.22%\n",
            "Accuracy on test set: 71.66%\n",
            "Precision on test set: 74.26%\n",
            "Recall on test set: 66.45%\n",
            "F1 score on test set: 70.14%\n",
            "Random Forest 10-fold cross validation score on training set is: 71%\n",
            "Classification Report: \n",
            "               precision    recall  f1-score   support\n",
            "\n",
            "           0       0.74      0.66      0.70       912\n",
            "           1       0.70      0.77      0.73       909\n",
            "\n",
            "    accuracy                           0.72      1821\n",
            "   macro avg       0.72      0.72      0.72      1821\n",
            "weighted avg       0.72      0.72      0.72      1821\n",
            "\n",
            "Random Forest 10-fold cross validation score on testing set is: 67%\n"
          ]
        }
      ]
    },
    {
      "cell_type": "markdown",
      "source": [
        "5)XGBoost"
      ],
      "metadata": {
        "id": "9nqjUzPVAFdo"
      }
    },
    {
      "cell_type": "code",
      "source": [
        "import xgboost as xgb\n",
        "from sklearn.metrics import accuracy_score, precision_score, recall_score, f1_score, classification_report\n",
        "from sklearn.model_selection import cross_val_score\n",
        "\n",
        "# Train the XGBoost classifier with 100 estimators and a random seed of 42\n",
        "xgb_model = xgb.XGBClassifier(n_estimators=100, random_state=42)\n",
        "xgb_model.fit(X_train, y_train)\n",
        "\n",
        "# Make predictions on the validation set\n",
        "y_pred_valid = xgb_model.predict(X_valid)\n",
        "\n",
        "# Calculate evaluation metrics on the validation set\n",
        "acc = accuracy_score(y_valid, y_pred_valid)\n",
        "precision = precision_score(y_valid, y_pred_valid, pos_label=0)\n",
        "recall = recall_score(y_valid, y_pred_valid, pos_label=0)\n",
        "f1 = f1_score(y_valid, y_pred_valid, pos_label=0)\n",
        "\n",
        "# Print the evaluation metrics for the validation set\n",
        "print(f\"Accuracy on validation set: {round(acc * 100, 2)}%\")\n",
        "print(f\"Precision on validation set: {round(precision * 100, 2)}%\")\n",
        "print(f\"Recall on validation set: {round(recall * 100, 2)}%\")\n",
        "print(f\"F1 score on validation set: {round(f1 * 100, 2)}%\")\n",
        "\n",
        "# Make predictions on the test set\n",
        "y_pred_test = xgb_model.predict(X_test)\n",
        "\n",
        "# Calculate evaluation metrics on the test set\n",
        "acc = accuracy_score(y_test, y_pred_test)\n",
        "precision = precision_score(y_test, y_pred_test, pos_label=0)\n",
        "recall = recall_score(y_test, y_pred_test, pos_label=0)\n",
        "f1 = f1_score(y_test, y_pred_test, pos_label=0)\n",
        "\n",
        "# Print the evaluation metrics for the test set\n",
        "print(f\"Accuracy on test set: {round(acc * 100, 2)}%\")\n",
        "print(f\"Precision on test set: {round(precision * 100, 2)}%\")\n",
        "print(f\"Recall on test set: {round(recall * 100, 2)}%\")\n",
        "print(f\"F1 score on test set: {round(f1 * 100, 2)}%\")\n",
        "\n",
        "# Perform 10-fold cross validation on the training set\n",
        "xgb_accuracies_validation = cross_val_score(estimator=xgb_model, X=X_train, y=y_train, cv=10)\n",
        "print(f\"XGBoost 10-fold cross validation score on training set is: {round(xgb_accuracies_validation.mean()*100)}%\")\n",
        "\n",
        "# Print the classification report for the test set\n",
        "cr_xgb_test = classification_report(y_test, y_pred_test)\n",
        "print(\"Classification Report: \\n\", cr_xgb_test)\n",
        "\n",
        "# Perform 10-fold cross validation on the test set\n",
        "xgb_accuracies_test = cross_val_score(estimator=xgb_model, X=X_test, y=y_test, cv=10)\n",
        "print(f\"XGBoost 10-fold cross validation score on testing set is: {round(xgb_accuracies_test.mean()*100)}%\")\n"
      ],
      "metadata": {
        "colab": {
          "base_uri": "https://localhost:8080/"
        },
        "id": "pWItx6tH-QHJ",
        "outputId": "35a091e2-64db-4e60-e413-4108922d3e7a"
      },
      "execution_count": 27,
      "outputs": [
        {
          "output_type": "stream",
          "name": "stdout",
          "text": [
            "Accuracy on validation set: 70.38%\n",
            "Precision on validation set: 71.17%\n",
            "Recall on validation set: 64.77%\n",
            "F1 score on validation set: 67.82%\n",
            "Accuracy on test set: 72.76%\n",
            "Precision on test set: 75.43%\n",
            "Recall on test set: 67.65%\n",
            "F1 score on test set: 71.33%\n",
            "XGBoost 10-fold cross validation score on training set is: 71%\n",
            "Classification Report: \n",
            "               precision    recall  f1-score   support\n",
            "\n",
            "           0       0.75      0.68      0.71       912\n",
            "           1       0.71      0.78      0.74       909\n",
            "\n",
            "    accuracy                           0.73      1821\n",
            "   macro avg       0.73      0.73      0.73      1821\n",
            "weighted avg       0.73      0.73      0.73      1821\n",
            "\n",
            "XGBoost 10-fold cross validation score on testing set is: 66%\n"
          ]
        }
      ]
    },
    {
      "cell_type": "code",
      "source": [],
      "metadata": {
        "id": "PFkey_1h-QMP"
      },
      "execution_count": null,
      "outputs": []
    },
    {
      "cell_type": "code",
      "source": [],
      "metadata": {
        "id": "gFIrrHZw5uR2"
      },
      "execution_count": null,
      "outputs": []
    },
    {
      "cell_type": "markdown",
      "metadata": {
        "id": "Liy2SrqHyAva"
      },
      "source": [
        "(20 points) The purpose of the question is to practice different machine learning algorithms for text clustering\n",
        "Please downlad the dataset by using the following link.  https://www.kaggle.com/PromptCloudHQ/amazon-reviews-unlocked-mobile-phones\n",
        "(You can also use different text data which you want)\n",
        "\n",
        "Apply the listed clustering methods to the dataset:\n",
        "\n",
        "K-means\n",
        "\n",
        "DBSCAN\n",
        "\n",
        "Hierarchical clustering\n",
        "\n",
        "Word2Vec\n",
        "\n",
        "BERT\n",
        "\n",
        "You can refer to of the codes from  the follwing link below. \n",
        "https://www.kaggle.com/karthik3890/text-clustering "
      ]
    },
    {
      "cell_type": "code",
      "execution_count": null,
      "metadata": {
        "id": "83sEavSNyAva"
      },
      "outputs": [],
      "source": [
        "#Write your code here.\n",
        "\n",
        "\n"
      ]
    },
    {
      "cell_type": "markdown",
      "metadata": {
        "id": "M5skF_D5yAvb"
      },
      "source": [
        "In one paragraph, please compare the results of K-means, DBSCAN, Hierarchical clustering, Word2Vec, and BERT."
      ]
    },
    {
      "cell_type": "code",
      "execution_count": null,
      "metadata": {
        "id": "JMrJZZOAyAvb"
      },
      "outputs": [],
      "source": [
        "#You can write you answer here. (No code needed)\n",
        "\n",
        "\n"
      ]
    }
  ],
  "metadata": {
    "kernelspec": {
      "display_name": "Python 3 (ipykernel)",
      "language": "python",
      "name": "python3"
    },
    "language_info": {
      "codemirror_mode": {
        "name": "ipython",
        "version": 3
      },
      "file_extension": ".py",
      "mimetype": "text/x-python",
      "name": "python",
      "nbconvert_exporter": "python",
      "pygments_lexer": "ipython3",
      "version": "3.9.12"
    },
    "colab": {
      "provenance": [],
      "include_colab_link": true
    }
  },
  "nbformat": 4,
  "nbformat_minor": 0
}