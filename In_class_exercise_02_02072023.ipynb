{
  "cells": [
    {
      "cell_type": "markdown",
      "metadata": {
        "id": "view-in-github",
        "colab_type": "text"
      },
      "source": [
        "<a href=\"https://colab.research.google.com/github/jivitheshreddy/INFO-5731-Srping2023/blob/main/In_class_exercise_02_02072023.ipynb\" target=\"_parent\"><img src=\"https://colab.research.google.com/assets/colab-badge.svg\" alt=\"Open In Colab\"/></a>"
      ]
    },
    {
      "cell_type": "markdown",
      "metadata": {
        "id": "PA6g9StfSe56"
      },
      "source": [
        "## The second In-class-exercise (02/07/2023, 40 points in total)"
      ]
    },
    {
      "cell_type": "markdown",
      "metadata": {
        "id": "tWe8A_U2Se58"
      },
      "source": [
        "The purpose of this exercise is to understand users' information needs, then collect data from different sources for analysis."
      ]
    },
    {
      "cell_type": "markdown",
      "metadata": {
        "id": "NBBfY3eySe58"
      },
      "source": [
        "Question 1 (10 points): Describe an interesting research question (or practical question) you have in mind, what kind of data should be collected to answer the question(s)? How many data needed for the analysis? The detail steps for collecting and save the data. "
      ]
    },
    {
      "cell_type": "code",
      "execution_count": null,
      "metadata": {
        "id": "w5ITLE_SSe58"
      },
      "outputs": [],
      "source": [
        "# Your answer here (no code for this question, write down your answer as detail as possible for the above questions):\n",
        "\n",
        "'''\n",
        "Questions: What are the best hotels for stay in Hyderabad,India. ?\n",
        "Data needed : For the above question we would be needing hotel reviews , rating and price .As ratings and review would be\n",
        "helpful while searching for good hotels. \n",
        "\n",
        "Steps:I would be using Oyorooms website for extracting the data.\n",
        "I will be using beautifulSoup to extract the info from website.\n",
        "I would be extracting name,address,rating , price from the website.\n",
        "I would first extract of hotels and looop thrugh them for extracting the remaining data.\n",
        "Finally i would create a datatframe from the data.\n",
        "I have scarped 120 records as the website had only 7 pages , i have looped throiugh them got only 120 hotel reviews.\n",
        "\n",
        "\n",
        "\n",
        "\n",
        "\n",
        "\n",
        "\n",
        "\n",
        "'''"
      ]
    },
    {
      "cell_type": "markdown",
      "metadata": {
        "id": "H0vL0XzGSe59"
      },
      "source": [
        "Question 2 (10 points): Write python code to collect 1000 data samples you discussed above."
      ]
    },
    {
      "cell_type": "code",
      "execution_count": null,
      "metadata": {
        "id": "gyWwuH-VSe59"
      },
      "outputs": [],
      "source": [
        "import numpy as np\n",
        "from selenium import webdriver\n",
        "from bs4 import BeautifulSoup\n",
        "from selenium import webdriver\n",
        "url=\"https://www.oyorooms.com/hotels-in-hyderabad/\"\n",
        "import pandas as pd\n",
        "def get_data(url):\n",
        "    browser=webdriver.Firefox()\n",
        "    browser.get(url)\n",
        "    html=browser.page_source\n",
        "    soup=BeautifulSoup(html,'html.parser')\n",
        "    listings=soup.find_all(\"div\",class_=\"hotelCardListing__descriptionWrapper\")\n",
        "    n=[]\n",
        "    a=[]\n",
        "    r=[]\n",
        "    p=[]\n",
        "    for i in listings:\n",
        "        name=i.find_all(\"h3\",class_=\"listingHotelDescription__hotelName d-textEllipsis\")\n",
        "        if len(name)!=0:\n",
        "            n.append(name[0].text)\n",
        "        else:\n",
        "            n.append(np.nan)\n",
        "        addr=i.find_all(\"span\",attrs={'itemprop':'streetAddress'})\n",
        "        if len(addr)!=0:\n",
        "            a.append(addr[0].text)\n",
        "        else:\n",
        "            a.append(np.nan)\n",
        "        rating=i.find_all(\"meta\",attrs={'itemprop':'ratingValue'})\n",
        "        if len(rating)!=0:\n",
        "            r.append(rating[0]['content'])\n",
        "        else:\n",
        "            r.append(np.nan)\n",
        "        price=i.find_all(\"span\",class_=\"listingPrice__finalPrice\")\n",
        "        if len(price)!=0:\n",
        "            p.append(price[0].text)\n",
        "        else:\n",
        "            p.append(np.nan)\n",
        "    table=pd.DataFrame({'name':n,'addrs':a,'rating':r,'price':p})\n",
        "    return table\n",
        "\n"
      ]
    },
    {
      "cell_type": "code",
      "execution_count": null,
      "metadata": {
        "id": "M2PLlIq0Se5-",
        "outputId": "c116d4fd-62f5-4ea4-d513-ca0653913d2e"
      },
      "outputs": [
        {
          "name": "stderr",
          "output_type": "stream",
          "text": [
            "100%|████████████████████████████████████████████████████████████████████████████████████| 6/6 [01:17<00:00, 12.95s/it]\n"
          ]
        }
      ],
      "source": [
        "base_url='https://www.oyorooms.com/hotels-in-hyderabad/?page={}'\n",
        "master={}\n",
        "from tqdm import tqdm\n",
        "for i in tqdm(range(1,7)):\n",
        "    url=base_url.format(i)\n",
        "    master[i]=get_data(url)"
      ]
    },
    {
      "cell_type": "code",
      "execution_count": null,
      "metadata": {
        "id": "qykRPYS5Se5_"
      },
      "outputs": [],
      "source": [
        "big_table=pd.concat([master[i] for i in master],axis=0)"
      ]
    },
    {
      "cell_type": "code",
      "execution_count": null,
      "metadata": {
        "id": "nm9tp1w_Se5_",
        "outputId": "35141b66-a959-4f08-ae10-dc9a87d82610"
      },
      "outputs": [
        {
          "data": {
            "text/html": [
              "<div>\n",
              "<style scoped>\n",
              "    .dataframe tbody tr th:only-of-type {\n",
              "        vertical-align: middle;\n",
              "    }\n",
              "\n",
              "    .dataframe tbody tr th {\n",
              "        vertical-align: top;\n",
              "    }\n",
              "\n",
              "    .dataframe thead th {\n",
              "        text-align: right;\n",
              "    }\n",
              "</style>\n",
              "<table border=\"1\" class=\"dataframe\">\n",
              "  <thead>\n",
              "    <tr style=\"text-align: right;\">\n",
              "      <th></th>\n",
              "      <th>name</th>\n",
              "      <th>addrs</th>\n",
              "      <th>rating</th>\n",
              "      <th>price</th>\n",
              "    </tr>\n",
              "  </thead>\n",
              "  <tbody>\n",
              "    <tr>\n",
              "      <th>0</th>\n",
              "      <td>OYO Flagship 704007 Hotel Ashoka Classic</td>\n",
              "      <td>Hyderabad, Hyderabad</td>\n",
              "      <td>3.7</td>\n",
              "      <td>₹626</td>\n",
              "    </tr>\n",
              "    <tr>\n",
              "      <th>1</th>\n",
              "      <td>OYO 86305 Hotel Aroma Classic</td>\n",
              "      <td>15-1-309 Feelkhana Near Acharaya Bhavan Baba R...</td>\n",
              "      <td>3.9</td>\n",
              "      <td>₹599</td>\n",
              "    </tr>\n",
              "    <tr>\n",
              "      <th>2</th>\n",
              "      <td>OYO Flagship 80484 Simra Relax Inn</td>\n",
              "      <td>Hyderabad, Hyderabad</td>\n",
              "      <td>4.2</td>\n",
              "      <td>₹626</td>\n",
              "    </tr>\n",
              "    <tr>\n",
              "      <th>3</th>\n",
              "      <td>OYO Flagship 806329 Flagship Langar Houz</td>\n",
              "      <td>, Hyderabad</td>\n",
              "      <td>4.1</td>\n",
              "      <td>₹699</td>\n",
              "    </tr>\n",
              "    <tr>\n",
              "      <th>4</th>\n",
              "      <td>SPOT ON 807530 Blue Star Lodge</td>\n",
              "      <td>Nampally, Hyderabad</td>\n",
              "      <td>NaN</td>\n",
              "      <td>₹454</td>\n",
              "    </tr>\n",
              "    <tr>\n",
              "      <th>...</th>\n",
              "      <td>...</td>\n",
              "      <td>...</td>\n",
              "      <td>...</td>\n",
              "      <td>...</td>\n",
              "    </tr>\n",
              "    <tr>\n",
              "      <th>15</th>\n",
              "      <td>SPOT ON 70822 Pnd Complex</td>\n",
              "      <td>R C I Rd, Hyderabad</td>\n",
              "      <td>3.6</td>\n",
              "      <td>₹899</td>\n",
              "    </tr>\n",
              "    <tr>\n",
              "      <th>16</th>\n",
              "      <td>OYO 82310 Holiday Inn</td>\n",
              "      <td>Telangana, Hyderabad</td>\n",
              "      <td>4.2</td>\n",
              "      <td>₹1135</td>\n",
              "    </tr>\n",
              "    <tr>\n",
              "      <th>17</th>\n",
              "      <td>Capital O 44354 Jubilee Banjara Suites</td>\n",
              "      <td>Near American Hospital, Banjarahills, Hyderabad</td>\n",
              "      <td>3.4</td>\n",
              "      <td>₹1410</td>\n",
              "    </tr>\n",
              "    <tr>\n",
              "      <th>18</th>\n",
              "      <td>OYO 701448 Heavens Inn</td>\n",
              "      <td>Secunderabad Mandal, Hyderabad</td>\n",
              "      <td>4.2</td>\n",
              "      <td>₹1141</td>\n",
              "    </tr>\n",
              "    <tr>\n",
              "      <th>19</th>\n",
              "      <td>OYOFlagship 80467H Hotel R Square</td>\n",
              "      <td>LB NAGAR, Hyderabad</td>\n",
              "      <td>3.2</td>\n",
              "      <td>₹1196</td>\n",
              "    </tr>\n",
              "  </tbody>\n",
              "</table>\n",
              "<p>120 rows × 4 columns</p>\n",
              "</div>"
            ],
            "text/plain": [
              "                                        name  \\\n",
              "0   OYO Flagship 704007 Hotel Ashoka Classic   \n",
              "1              OYO 86305 Hotel Aroma Classic   \n",
              "2         OYO Flagship 80484 Simra Relax Inn   \n",
              "3   OYO Flagship 806329 Flagship Langar Houz   \n",
              "4             SPOT ON 807530 Blue Star Lodge   \n",
              "..                                       ...   \n",
              "15                 SPOT ON 70822 Pnd Complex   \n",
              "16                     OYO 82310 Holiday Inn   \n",
              "17    Capital O 44354 Jubilee Banjara Suites   \n",
              "18                    OYO 701448 Heavens Inn   \n",
              "19        OYOFlagship 80467H Hotel R Square    \n",
              "\n",
              "                                                addrs rating  price  \n",
              "0                                Hyderabad, Hyderabad    3.7   ₹626  \n",
              "1   15-1-309 Feelkhana Near Acharaya Bhavan Baba R...    3.9   ₹599  \n",
              "2                                Hyderabad, Hyderabad    4.2   ₹626  \n",
              "3                                         , Hyderabad    4.1   ₹699  \n",
              "4                                 Nampally, Hyderabad    NaN   ₹454  \n",
              "..                                                ...    ...    ...  \n",
              "15                                R C I Rd, Hyderabad    3.6   ₹899  \n",
              "16                               Telangana, Hyderabad    4.2  ₹1135  \n",
              "17    Near American Hospital, Banjarahills, Hyderabad    3.4  ₹1410  \n",
              "18                     Secunderabad Mandal, Hyderabad    4.2  ₹1141  \n",
              "19                                LB NAGAR, Hyderabad    3.2  ₹1196  \n",
              "\n",
              "[120 rows x 4 columns]"
            ]
          },
          "execution_count": 22,
          "metadata": {},
          "output_type": "execute_result"
        }
      ],
      "source": [
        "big_table"
      ]
    },
    {
      "cell_type": "markdown",
      "metadata": {
        "id": "izc6jcO3Se5_"
      },
      "source": [
        "Question 3 (10 points): Write python code to collect 1000 articles from Google Scholar (https://scholar.google.com/), Microsoft Academic (https://academic.microsoft.com/home), or CiteSeerX (https://citeseerx.ist.psu.edu/index), or Semantic Scholar (https://www.semanticscholar.org/), or ACM Digital Libraries (https://dl.acm.org/) with the keyword \"information retrieval\". The articles should be published in the last 10 years (2012-2022).\n",
        "\n",
        "The following information of the article needs to be collected:\n",
        "\n",
        "(1) Title\n",
        "\n",
        "(2) Venue/journal/conference being published\n",
        "\n",
        "(3) Year\n",
        "\n",
        "(4) Authors\n",
        "\n",
        "(5) Abstract"
      ]
    },
    {
      "cell_type": "code",
      "execution_count": null,
      "metadata": {
        "id": "pzdEB9znSe5_"
      },
      "outputs": [],
      "source": [
        "import requests\n",
        "import json\n",
        "import pandas as pd\n",
        "\n",
        "topic = 'information retrieval'\n",
        "headers = {}\n",
        "payload = {}\n",
        "results = []\n",
        "\n",
        "for i in range(0, 10):\n",
        "    offset = i * 100\n",
        "    url = f\"https://api.semanticscholar.org/graph/v1/paper/search?query={topic}&offset={offset}&limit=100&fields=title,abstract,authors,year,venue\"\n",
        "    response = requests.request(\"GET\", url, headers=headers, data=payload)\n",
        "    data = json.loads(response.text)['data']\n",
        "    results.extend(data)\n",
        "\n",
        "df = pd.DataFrame(results)"
      ]
    },
    {
      "cell_type": "code",
      "execution_count": null,
      "metadata": {
        "id": "2GqrZh69Se6A",
        "outputId": "5ba87d07-93a3-4a83-a9e4-5e143dcc43a7"
      },
      "outputs": [
        {
          "data": {
            "text/html": [
              "<div>\n",
              "<style scoped>\n",
              "    .dataframe tbody tr th:only-of-type {\n",
              "        vertical-align: middle;\n",
              "    }\n",
              "\n",
              "    .dataframe tbody tr th {\n",
              "        vertical-align: top;\n",
              "    }\n",
              "\n",
              "    .dataframe thead th {\n",
              "        text-align: right;\n",
              "    }\n",
              "</style>\n",
              "<table border=\"1\" class=\"dataframe\">\n",
              "  <thead>\n",
              "    <tr style=\"text-align: right;\">\n",
              "      <th></th>\n",
              "      <th>paperId</th>\n",
              "      <th>title</th>\n",
              "      <th>abstract</th>\n",
              "      <th>venue</th>\n",
              "      <th>year</th>\n",
              "      <th>authors</th>\n",
              "    </tr>\n",
              "  </thead>\n",
              "  <tbody>\n",
              "    <tr>\n",
              "      <th>0</th>\n",
              "      <td>dff9c4988d374e556c2940973b3f5b7980596509</td>\n",
              "      <td>Search Engines: Information Retrieval in Practice</td>\n",
              "      <td>None</td>\n",
              "      <td>Computer/law journal</td>\n",
              "      <td>2011</td>\n",
              "      <td>[{'authorId': '143716988', 'name': 'M. Levene'}]</td>\n",
              "    </tr>\n",
              "    <tr>\n",
              "      <th>1</th>\n",
              "      <td>f0bc70cb4d9d5b7fde62bedd532faadf03775ab1</td>\n",
              "      <td>Concept-Based Information Retrieval Using Expl...</td>\n",
              "      <td>Information retrieval systems traditionally re...</td>\n",
              "      <td>TOIS</td>\n",
              "      <td>2011</td>\n",
              "      <td>[{'authorId': '1875787', 'name': 'Ofer Egozi'}...</td>\n",
              "    </tr>\n",
              "    <tr>\n",
              "      <th>2</th>\n",
              "      <td>a489d95fb930401c1f4b7d92bb139d271d49abbf</td>\n",
              "      <td>AdaRank: a boosting algorithm for information ...</td>\n",
              "      <td>In this paper we address the issue of learning...</td>\n",
              "      <td>Annual International ACM SIGIR Conference on R...</td>\n",
              "      <td>2007</td>\n",
              "      <td>[{'authorId': '2150635498', 'name': 'Jun Xu'},...</td>\n",
              "    </tr>\n",
              "    <tr>\n",
              "      <th>3</th>\n",
              "      <td>7137a80d199e82397a564696e12773256f343d17</td>\n",
              "      <td>LETOR: A benchmark collection for research on ...</td>\n",
              "      <td>None</td>\n",
              "      <td>Information retrieval (Boston)</td>\n",
              "      <td>2010</td>\n",
              "      <td>[{'authorId': '143826491', 'name': 'Tao Qin'},...</td>\n",
              "    </tr>\n",
              "    <tr>\n",
              "      <th>4</th>\n",
              "      <td>9f1b0fa1c157a1255af4a10c434da73a0f881221</td>\n",
              "      <td>Information Retrieval in Folksonomies: Search ...</td>\n",
              "      <td>None</td>\n",
              "      <td>Extended Semantic Web Conference</td>\n",
              "      <td>2006</td>\n",
              "      <td>[{'authorId': '1792623', 'name': 'A. Hotho'}, ...</td>\n",
              "    </tr>\n",
              "    <tr>\n",
              "      <th>...</th>\n",
              "      <td>...</td>\n",
              "      <td>...</td>\n",
              "      <td>...</td>\n",
              "      <td>...</td>\n",
              "      <td>...</td>\n",
              "      <td>...</td>\n",
              "    </tr>\n",
              "    <tr>\n",
              "      <th>95</th>\n",
              "      <td>546c1da4b79661c8ffc794ab508565292cff50d9</td>\n",
              "      <td>Topical N-Grams: Phrase and Topic Discovery, w...</td>\n",
              "      <td>Most topic models, such as latent Dirichlet al...</td>\n",
              "      <td>Industrial Conference on Data Mining</td>\n",
              "      <td>2007</td>\n",
              "      <td>[{'authorId': '1526973953', 'name': 'Xuerui Wa...</td>\n",
              "    </tr>\n",
              "    <tr>\n",
              "      <th>96</th>\n",
              "      <td>2589215fa519956ab8082c21609bfbe9ea33d3da</td>\n",
              "      <td>Advances in Multilingual and Multimodal Inform...</td>\n",
              "      <td>None</td>\n",
              "      <td>Conference and Labs of the Evaluation Forum</td>\n",
              "      <td>2008</td>\n",
              "      <td>[{'authorId': '144423157', 'name': 'C. Peters'...</td>\n",
              "    </tr>\n",
              "    <tr>\n",
              "      <th>97</th>\n",
              "      <td>41128ee6abb284d9c6b941910ecd87640974a15c</td>\n",
              "      <td>Interactive information retrieval</td>\n",
              "      <td>Information retrieval is a fundamental compone...</td>\n",
              "      <td>Annual Review of Information Science and Techn...</td>\n",
              "      <td>2008</td>\n",
              "      <td>[{'authorId': '145191197', 'name': 'I. Ruthven'}]</td>\n",
              "    </tr>\n",
              "    <tr>\n",
              "      <th>98</th>\n",
              "      <td>3e766699a0a9254a30d960ef06e19a04198ba825</td>\n",
              "      <td>The Modern Algebra of Information Retrieval</td>\n",
              "      <td>None</td>\n",
              "      <td>The Information Retrieval Series</td>\n",
              "      <td>2008</td>\n",
              "      <td>[{'authorId': '2927843', 'name': 'Sándor Domin...</td>\n",
              "    </tr>\n",
              "    <tr>\n",
              "      <th>99</th>\n",
              "      <td>18da4e0fe1bc08403f6f023e380361ebc64890dc</td>\n",
              "      <td>The evolution of visual information retrieval</td>\n",
              "      <td>This paper seeks to provide a brief overview o...</td>\n",
              "      <td>Journal of information science</td>\n",
              "      <td>2008</td>\n",
              "      <td>[{'authorId': '2137152', 'name': 'P. Enser'}]</td>\n",
              "    </tr>\n",
              "  </tbody>\n",
              "</table>\n",
              "<p>100 rows × 6 columns</p>\n",
              "</div>"
            ],
            "text/plain": [
              "                                     paperId  \\\n",
              "0   dff9c4988d374e556c2940973b3f5b7980596509   \n",
              "1   f0bc70cb4d9d5b7fde62bedd532faadf03775ab1   \n",
              "2   a489d95fb930401c1f4b7d92bb139d271d49abbf   \n",
              "3   7137a80d199e82397a564696e12773256f343d17   \n",
              "4   9f1b0fa1c157a1255af4a10c434da73a0f881221   \n",
              "..                                       ...   \n",
              "95  546c1da4b79661c8ffc794ab508565292cff50d9   \n",
              "96  2589215fa519956ab8082c21609bfbe9ea33d3da   \n",
              "97  41128ee6abb284d9c6b941910ecd87640974a15c   \n",
              "98  3e766699a0a9254a30d960ef06e19a04198ba825   \n",
              "99  18da4e0fe1bc08403f6f023e380361ebc64890dc   \n",
              "\n",
              "                                                title  \\\n",
              "0   Search Engines: Information Retrieval in Practice   \n",
              "1   Concept-Based Information Retrieval Using Expl...   \n",
              "2   AdaRank: a boosting algorithm for information ...   \n",
              "3   LETOR: A benchmark collection for research on ...   \n",
              "4   Information Retrieval in Folksonomies: Search ...   \n",
              "..                                                ...   \n",
              "95  Topical N-Grams: Phrase and Topic Discovery, w...   \n",
              "96  Advances in Multilingual and Multimodal Inform...   \n",
              "97                  Interactive information retrieval   \n",
              "98        The Modern Algebra of Information Retrieval   \n",
              "99      The evolution of visual information retrieval   \n",
              "\n",
              "                                             abstract  \\\n",
              "0                                                None   \n",
              "1   Information retrieval systems traditionally re...   \n",
              "2   In this paper we address the issue of learning...   \n",
              "3                                                None   \n",
              "4                                                None   \n",
              "..                                                ...   \n",
              "95  Most topic models, such as latent Dirichlet al...   \n",
              "96                                               None   \n",
              "97  Information retrieval is a fundamental compone...   \n",
              "98                                               None   \n",
              "99  This paper seeks to provide a brief overview o...   \n",
              "\n",
              "                                                venue  year  \\\n",
              "0                                Computer/law journal  2011   \n",
              "1                                                TOIS  2011   \n",
              "2   Annual International ACM SIGIR Conference on R...  2007   \n",
              "3                      Information retrieval (Boston)  2010   \n",
              "4                    Extended Semantic Web Conference  2006   \n",
              "..                                                ...   ...   \n",
              "95               Industrial Conference on Data Mining  2007   \n",
              "96        Conference and Labs of the Evaluation Forum  2008   \n",
              "97  Annual Review of Information Science and Techn...  2008   \n",
              "98                   The Information Retrieval Series  2008   \n",
              "99                     Journal of information science  2008   \n",
              "\n",
              "                                              authors  \n",
              "0    [{'authorId': '143716988', 'name': 'M. Levene'}]  \n",
              "1   [{'authorId': '1875787', 'name': 'Ofer Egozi'}...  \n",
              "2   [{'authorId': '2150635498', 'name': 'Jun Xu'},...  \n",
              "3   [{'authorId': '143826491', 'name': 'Tao Qin'},...  \n",
              "4   [{'authorId': '1792623', 'name': 'A. Hotho'}, ...  \n",
              "..                                                ...  \n",
              "95  [{'authorId': '1526973953', 'name': 'Xuerui Wa...  \n",
              "96  [{'authorId': '144423157', 'name': 'C. Peters'...  \n",
              "97  [{'authorId': '145191197', 'name': 'I. Ruthven'}]  \n",
              "98  [{'authorId': '2927843', 'name': 'Sándor Domin...  \n",
              "99      [{'authorId': '2137152', 'name': 'P. Enser'}]  \n",
              "\n",
              "[100 rows x 6 columns]"
            ]
          },
          "execution_count": 39,
          "metadata": {},
          "output_type": "execute_result"
        }
      ],
      "source": [
        "df"
      ]
    },
    {
      "cell_type": "markdown",
      "metadata": {
        "id": "7NHjlaGASe6A"
      },
      "source": [
        "Question 4 (10 points): Write python code to collect 1000 posts from Twitter, or Facebook, or Instagram. You can either use hashtags, keywords, user_name, user_id, or other information to collect the data. \n",
        "\n",
        "The following information needs to be collected:\n",
        "\n",
        "(1) User_name\n",
        "\n",
        "(2) Posted time\n",
        "\n",
        "(3) Text "
      ]
    },
    {
      "cell_type": "code",
      "execution_count": null,
      "metadata": {
        "id": "YDaTonr1Se6A",
        "outputId": "3b2d8999-b617-4523-dd67-e000c9def260"
      },
      "outputs": [
        {
          "name": "stdout",
          "output_type": "stream",
          "text": [
            "Collecting tweepy\n",
            "  Downloading tweepy-4.12.1-py3-none-any.whl (101 kB)\n",
            "     ------------------------------------ 101.6/101.6 KB 652.9 kB/s eta 0:00:00\n",
            "Requirement already satisfied: oauthlib<4,>=3.2.0 in c:\\users\\jivit\\appdata\\local\\programs\\python\\python310\\lib\\site-packages (from tweepy) (3.2.0)\n",
            "Requirement already satisfied: requests-oauthlib<2,>=1.2.0 in c:\\users\\jivit\\appdata\\local\\programs\\python\\python310\\lib\\site-packages (from tweepy) (1.3.1)\n",
            "Requirement already satisfied: requests<3,>=2.27.0 in c:\\users\\jivit\\appdata\\local\\programs\\python\\python310\\lib\\site-packages (from tweepy) (2.27.1)\n",
            "Requirement already satisfied: certifi>=2017.4.17 in c:\\users\\jivit\\appdata\\local\\programs\\python\\python310\\lib\\site-packages (from requests<3,>=2.27.0->tweepy) (2021.10.8)\n",
            "Requirement already satisfied: urllib3<1.27,>=1.21.1 in c:\\users\\jivit\\appdata\\local\\programs\\python\\python310\\lib\\site-packages (from requests<3,>=2.27.0->tweepy) (1.26.9)\n",
            "Requirement already satisfied: idna<4,>=2.5 in c:\\users\\jivit\\appdata\\local\\programs\\python\\python310\\lib\\site-packages (from requests<3,>=2.27.0->tweepy) (3.3)\n",
            "Requirement already satisfied: charset-normalizer~=2.0.0 in c:\\users\\jivit\\appdata\\local\\programs\\python\\python310\\lib\\site-packages (from requests<3,>=2.27.0->tweepy) (2.0.12)\n",
            "Installing collected packages: tweepy\n",
            "Successfully installed tweepy-4.12.1\n"
          ]
        },
        {
          "name": "stderr",
          "output_type": "stream",
          "text": [
            "WARNING: You are using pip version 22.0.4; however, version 23.0 is available.\n",
            "You should consider upgrading via the 'C:\\Users\\jivit\\AppData\\Local\\Programs\\Python\\Python310\\python.exe -m pip install --upgrade pip' command.\n"
          ]
        }
      ],
      "source": [
        "!pip install tweepy"
      ]
    },
    {
      "cell_type": "code",
      "execution_count": null,
      "metadata": {
        "id": "XcdUEe3vSe6A",
        "outputId": "8e095475-5bdc-43c0-dbf6-f5f054bcbf1d"
      },
      "outputs": [
        {
          "ename": "TypeError",
          "evalue": "API.user_timeline() takes 1 positional argument but 2 were given",
          "output_type": "error",
          "traceback": [
            "\u001b[1;31m---------------------------------------------------------------------------\u001b[0m",
            "\u001b[1;31mTypeError\u001b[0m                                 Traceback (most recent call last)",
            "Input \u001b[1;32mIn [47]\u001b[0m, in \u001b[0;36m<module>\u001b[1;34m\u001b[0m\n\u001b[0;32m     24\u001b[0m auth\u001b[38;5;241m.\u001b[39mset_access_token(access_token,access_token_secret)\n\u001b[0;32m     25\u001b[0m api\u001b[38;5;241m=\u001b[39mtweepy\u001b[38;5;241m.\u001b[39mAPI(auth)\n\u001b[1;32m---> 26\u001b[0m tweets\u001b[38;5;241m=\u001b[39m\u001b[43mapi\u001b[49m\u001b[38;5;241;43m.\u001b[39;49m\u001b[43muser_timeline\u001b[49m\u001b[43m(\u001b[49m\u001b[38;5;124;43m\"\u001b[39;49m\u001b[38;5;124;43mShashiTharoor\u001b[39;49m\u001b[38;5;124;43m\"\u001b[39;49m\u001b[43m)\u001b[49m\n",
            "File \u001b[1;32m~\\AppData\\Local\\Programs\\Python\\Python310\\lib\\site-packages\\tweepy\\api.py:33\u001b[0m, in \u001b[0;36mpagination.<locals>.decorator.<locals>.wrapper\u001b[1;34m(*args, **kwargs)\u001b[0m\n\u001b[0;32m     31\u001b[0m \u001b[38;5;129m@functools\u001b[39m\u001b[38;5;241m.\u001b[39mwraps(method)\n\u001b[0;32m     32\u001b[0m \u001b[38;5;28;01mdef\u001b[39;00m \u001b[38;5;21mwrapper\u001b[39m(\u001b[38;5;241m*\u001b[39margs, \u001b[38;5;241m*\u001b[39m\u001b[38;5;241m*\u001b[39mkwargs):\n\u001b[1;32m---> 33\u001b[0m     \u001b[38;5;28;01mreturn\u001b[39;00m method(\u001b[38;5;241m*\u001b[39margs, \u001b[38;5;241m*\u001b[39m\u001b[38;5;241m*\u001b[39mkwargs)\n",
            "File \u001b[1;32m~\\AppData\\Local\\Programs\\Python\\Python310\\lib\\site-packages\\tweepy\\api.py:46\u001b[0m, in \u001b[0;36mpayload.<locals>.decorator.<locals>.wrapper\u001b[1;34m(*args, **kwargs)\u001b[0m\n\u001b[0;32m     44\u001b[0m kwargs[\u001b[38;5;124m'\u001b[39m\u001b[38;5;124mpayload_list\u001b[39m\u001b[38;5;124m'\u001b[39m] \u001b[38;5;241m=\u001b[39m payload_list\n\u001b[0;32m     45\u001b[0m kwargs[\u001b[38;5;124m'\u001b[39m\u001b[38;5;124mpayload_type\u001b[39m\u001b[38;5;124m'\u001b[39m] \u001b[38;5;241m=\u001b[39m payload_type\n\u001b[1;32m---> 46\u001b[0m \u001b[38;5;28;01mreturn\u001b[39;00m method(\u001b[38;5;241m*\u001b[39margs, \u001b[38;5;241m*\u001b[39m\u001b[38;5;241m*\u001b[39mkwargs)\n",
            "\u001b[1;31mTypeError\u001b[0m: API.user_timeline() takes 1 positional argument but 2 were given"
          ]
        }
      ],
      "source": [
        "# You code here (Please add comments in the code):\n",
        "\n",
        "\n",
        "import pandas as pd\n",
        "import numpy as np\n",
        "import tweepy\n",
        "from tweepy import OAuthHandler\n",
        "import requests\n",
        "import json\n",
        "\n",
        "# Consumer key is the API key that a service provider (Twitter, Facebook, etc.) issues to a consumer (a service that wants to access a user's resources on the service provider). \n",
        "# This key is what identifies the consumer.\n",
        "# Consumer secret is the consumer \"password\" that is used, along with the consumer key, to request access (i.e. authorization) to a user's resources from a service provider.\n",
        "# Access token is what is issued to the consumer by the service provider once the consumer completes authorization. \n",
        "# This token defines the access privileges of the consumer over a particular user's resources. \n",
        "# Each time the consumer wants to access the user's data from that service provider, the consumer includes the access token in the API request to the service provider.\n",
        "\n",
        "consumer_key =\"2Em7SxlX9jPMfL4x97r3zMO0x\"\n",
        "consumer_secret = \"sVbJzekKuiAgq83Y7gCwNVbSowqQokGVzWexKHl2cXIPceWtSd\"\n",
        "access_token =\"1439767876962029572-uUMt8oWRyzj9ilE5zk4uYbL93sCMPT\"\n",
        "access_token_secret = \"oydIGymn9bS767FVEMawE9GyGAnMmBJfaY2XXKmHnmliF\"\n",
        "\n",
        "auth=tweepy.OAuthHandler(consumer_key,consumer_secret)\n",
        "auth.set_access_token(access_token,access_token_secret)\n",
        "api=tweepy.API(auth)\n",
        "tweets=api.user_timeline(\"ShashiTharoor\",page=1,count=200)"
      ]
    },
    {
      "cell_type": "code",
      "execution_count": null,
      "metadata": {
        "id": "uuOQOq2gSe6B"
      },
      "outputs": [],
      "source": []
    }
  ],
  "metadata": {
    "kernelspec": {
      "display_name": "Python 3 (ipykernel)",
      "language": "python",
      "name": "python3"
    },
    "language_info": {
      "codemirror_mode": {
        "name": "ipython",
        "version": 3
      },
      "file_extension": ".py",
      "mimetype": "text/x-python",
      "name": "python",
      "nbconvert_exporter": "python",
      "pygments_lexer": "ipython3",
      "version": "3.10.2"
    },
    "colab": {
      "provenance": [],
      "include_colab_link": true
    }
  },
  "nbformat": 4,
  "nbformat_minor": 0
}